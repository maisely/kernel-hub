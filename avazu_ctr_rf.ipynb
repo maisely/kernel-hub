{
 "cells": [
  {
   "cell_type": "markdown",
   "metadata": {},
   "source": [
    "# Click-through Rate Prediction "
   ]
  },
  {
   "cell_type": "markdown",
   "metadata": {},
   "source": [
    "This project is an analysis for the [kaggle competition](https://www.kaggle.com/c/avazu-ctr-prediction) for Avazu. Using 11 days worth of Avazu data (mobile ads), I am going to build and test prediction models for the ad click-through rate using a simple Random Forest Model. The challenge for this competition lies in the magnificent size of the data, where training set includes 3.2M rows (~6.7GB). Some of the approaches were attempted to improve memory efficiency, including (1) converting data types to `int16` or `int8` for integers (instead of using `int64`) and use `category` for strings instead of objects; (2) using feather format for saving and loading dataframes.\n",
    "\n",
    "The project also explores the importance of feature engineering, by combining different methods such as concatenating variables, adding count features per group and target mean encoding.   "
   ]
  },
  {
   "cell_type": "code",
   "execution_count": null,
   "metadata": {
    "deletable": false,
    "editable": false,
    "nbgrader": {
     "checksum": "4b2ee7b245a73446da29cd2cb69fd8e2",
     "grade": false,
     "grade_id": "cell-e5b525e48f90cc37",
     "locked": true,
     "schema_version": 1,
     "solution": false
    }
   },
   "outputs": [],
   "source": [
    "def load_data():\n",
    "    path = \"avazu/\"\n",
    "    data = pd.read_csv(path + \"train\")\n",
    "    test = pd.read_csv(path + \"test\")\n",
    "    return data, test"
   ]
  },
  {
   "cell_type": "code",
   "execution_count": 3,
   "metadata": {},
   "outputs": [],
   "source": [
    "import numpy as np\n",
    "import pandas as pd\n",
    "import pickle\n",
    "import itertools\n",
    "\n",
    "from sklearn.preprocessing import LabelEncoder\n",
    "from sklearn.ensemble import RandomForestClassifier, forest\n",
    "from sklearn.metrics import log_loss, f1_score, auc, confusion_matrix\n",
    "\n",
    "import matplotlib.pyplot as plt\n",
    "%matplotlib inline\n",
    "import warnings\n",
    "warnings.filterwarnings('ignore')"
   ]
  },
  {
   "cell_type": "code",
   "execution_count": 4,
   "metadata": {},
   "outputs": [],
   "source": [
    "path = \"avazu/\""
   ]
  },
  {
   "cell_type": "code",
   "execution_count": 5,
   "metadata": {},
   "outputs": [],
   "source": [
    "def save_feather(test_df=False):\n",
    "    train_set.to_feather(path+\"train_set\")\n",
    "    val_set.to_feather(path+\"val_set\")\n",
    "    if test_df: test_set.to_feather(path+\"test_set\")\n",
    "    \n",
    "def load_feather(test_df=False):\n",
    "    train = pd.read_feather(path+\"train_set\")\n",
    "    val = pd.read_feather(path+\"val_set\")\n",
    "    if test_df: \n",
    "        test = pd.read_feather(path+\"test_set\")\n",
    "        return train, val, test\n",
    "    else: \n",
    "        return train, val"
   ]
  },
  {
   "cell_type": "code",
   "execution_count": 6,
   "metadata": {},
   "outputs": [],
   "source": [
    "def df_dtype(df):\n",
    "    dict_type = {}\n",
    "    for col, typ in df.dtypes.items():\n",
    "        if str(typ) not in dict_type: dict_type[str(typ)] = [col]\n",
    "        else: dict_type[str(typ)].append(col)\n",
    "    return dict_type\n",
    "\n",
    "def convert_numtype(df):\n",
    "    dtype = df_dtype(df)\n",
    "    try: \n",
    "        for col in dtype['float64']: df[col] = df[col].astype(np.float32)\n",
    "    except: print(\"No float64 columns\")\n",
    "    try: \n",
    "        for col in dtype['int64']: \n",
    "            if col!= 'index': df[col] = df[col].astype(np.int32)\n",
    "    except: print(\"No int64 columns\")\n",
    "    # return df_dtype(df)\n",
    "    \n",
    "def convert_cat(df, cols, typ):\n",
    "    for col in cols: df[col]= df[col].astype(typ)"
   ]
  },
  {
   "cell_type": "code",
   "execution_count": 7,
   "metadata": {
    "deletable": false,
    "nbgrader": {
     "checksum": "774022487d3cee6a5d3737ef7b0124a3",
     "grade": true,
     "grade_id": "cell-9ed772e2cb29616a",
     "locked": false,
     "points": 0,
     "schema_version": 1,
     "solution": true
    }
   },
   "outputs": [],
   "source": [
    "# YOUR CODE HERE\n",
    "train_dtype = {'id': np.uint32, 'click': np.uint8, 'hour': np.uint32, 'C1': np.uint32, 'banner_pos': np.uint8,\n",
    "         'site_id': object, 'site_domain': object, 'site_category': object, 'app_id': object,\n",
    "         'app_domain': object, 'app_category': object, 'device_id': object,\n",
    "         'device_ip': object, 'device_model': object, 'device_type': np.uint8, 'device_conn_type': np.uint8,\n",
    "         'C14': np.uint16, 'C15': np.uint16, 'C16': np.uint16, 'C17': np.uint16, 'C18': np.uint16, 'C19': np.uint16,\n",
    "         'C20': np.uint16, 'C21': np.uint16}\n",
    "\n",
    "test_dtype = {'id': np.uint32, 'hour': np.uint32, 'C1': np.uint32, 'banner_pos': np.uint8,\n",
    "         'site_id': object, 'site_domain': object, 'site_category': object, 'app_id': object,\n",
    "         'app_domain': object, 'app_category': object, 'device_id': object,\n",
    "         'device_ip': object, 'device_model': object, 'device_type': np.uint8, 'device_conn_type': np.uint8,\n",
    "         'C14': np.uint16, 'C15': np.uint16, 'C16': np.uint16, 'C17': np.uint16, 'C18': np.uint16, 'C19': np.uint16,\n",
    "         'C20': np.uint16, 'C21': np.uint16}\n",
    "# raise NotImplementedError()"
   ]
  },
  {
   "cell_type": "code",
   "execution_count": 8,
   "metadata": {},
   "outputs": [
    {
     "name": "stdout",
     "output_type": "stream",
     "text": [
      "<class 'pandas.core.frame.DataFrame'>\n",
      "RangeIndex: 40428967 entries, 0 to 40428966\n",
      "Data columns (total 24 columns):\n",
      "id                  uint32\n",
      "click               uint8\n",
      "hour                uint32\n",
      "C1                  uint32\n",
      "banner_pos          uint8\n",
      "site_id             object\n",
      "site_domain         object\n",
      "site_category       object\n",
      "app_id              object\n",
      "app_domain          object\n",
      "app_category        object\n",
      "device_id           object\n",
      "device_ip           object\n",
      "device_model        object\n",
      "device_type         uint8\n",
      "device_conn_type    uint8\n",
      "C14                 uint16\n",
      "C15                 uint16\n",
      "C16                 uint16\n",
      "C17                 uint16\n",
      "C18                 uint16\n",
      "C19                 uint16\n",
      "C20                 uint16\n",
      "C21                 uint16\n",
      "dtypes: object(9), uint16(8), uint32(3), uint8(4)\n",
      "memory usage: 23.2 GB\n",
      "None\n",
      "CPU times: user 3min 5s, sys: 16.8 s, total: 3min 22s\n",
      "Wall time: 3min 22s\n"
     ]
    }
   ],
   "source": [
    "%%time\n",
    "data = pd.read_csv(path + \"train\",\n",
    "                   usecols=train_dtype.keys(), dtype=train_dtype, low_memory=False)\n",
    "print(data.info(memory_usage='deep'))"
   ]
  },
  {
   "cell_type": "code",
   "execution_count": 9,
   "metadata": {},
   "outputs": [],
   "source": [
    "test_set = pd.read_csv(path + \"test\", dtype=test_dtype)"
   ]
  },
  {
   "cell_type": "code",
   "execution_count": 10,
   "metadata": {},
   "outputs": [
    {
     "data": {
      "text/html": [
       "<div>\n",
       "<style scoped>\n",
       "    .dataframe tbody tr th:only-of-type {\n",
       "        vertical-align: middle;\n",
       "    }\n",
       "\n",
       "    .dataframe tbody tr th {\n",
       "        vertical-align: top;\n",
       "    }\n",
       "\n",
       "    .dataframe thead th {\n",
       "        text-align: right;\n",
       "    }\n",
       "</style>\n",
       "<table border=\"1\" class=\"dataframe\">\n",
       "  <thead>\n",
       "    <tr style=\"text-align: right;\">\n",
       "      <th></th>\n",
       "      <th>count</th>\n",
       "      <th>mean</th>\n",
       "      <th>std</th>\n",
       "      <th>min</th>\n",
       "      <th>25%</th>\n",
       "      <th>50%</th>\n",
       "      <th>75%</th>\n",
       "      <th>max</th>\n",
       "    </tr>\n",
       "  </thead>\n",
       "  <tbody>\n",
       "    <tr>\n",
       "      <th>id</th>\n",
       "      <td>40428967.0</td>\n",
       "      <td>2.147588e+09</td>\n",
       "      <td>1.239805e+09</td>\n",
       "      <td>217.0</td>\n",
       "      <td>1.074381e+09</td>\n",
       "      <td>2.147369e+09</td>\n",
       "      <td>3.221347e+09</td>\n",
       "      <td>4.294967e+09</td>\n",
       "    </tr>\n",
       "    <tr>\n",
       "      <th>click</th>\n",
       "      <td>40428967.0</td>\n",
       "      <td>1.698056e-01</td>\n",
       "      <td>3.754620e-01</td>\n",
       "      <td>0.0</td>\n",
       "      <td>0.000000e+00</td>\n",
       "      <td>0.000000e+00</td>\n",
       "      <td>0.000000e+00</td>\n",
       "      <td>1.000000e+00</td>\n",
       "    </tr>\n",
       "    <tr>\n",
       "      <th>hour</th>\n",
       "      <td>40428967.0</td>\n",
       "      <td>1.410256e+07</td>\n",
       "      <td>2.966837e+02</td>\n",
       "      <td>14102100.0</td>\n",
       "      <td>1.410230e+07</td>\n",
       "      <td>1.410260e+07</td>\n",
       "      <td>1.410281e+07</td>\n",
       "      <td>1.410302e+07</td>\n",
       "    </tr>\n",
       "    <tr>\n",
       "      <th>C1</th>\n",
       "      <td>40428967.0</td>\n",
       "      <td>1.004968e+03</td>\n",
       "      <td>1.094586e+00</td>\n",
       "      <td>1001.0</td>\n",
       "      <td>1.005000e+03</td>\n",
       "      <td>1.005000e+03</td>\n",
       "      <td>1.005000e+03</td>\n",
       "      <td>1.012000e+03</td>\n",
       "    </tr>\n",
       "    <tr>\n",
       "      <th>banner_pos</th>\n",
       "      <td>40428967.0</td>\n",
       "      <td>2.880146e-01</td>\n",
       "      <td>5.063820e-01</td>\n",
       "      <td>0.0</td>\n",
       "      <td>0.000000e+00</td>\n",
       "      <td>0.000000e+00</td>\n",
       "      <td>1.000000e+00</td>\n",
       "      <td>7.000000e+00</td>\n",
       "    </tr>\n",
       "    <tr>\n",
       "      <th>device_type</th>\n",
       "      <td>40428967.0</td>\n",
       "      <td>1.015305e+00</td>\n",
       "      <td>5.274336e-01</td>\n",
       "      <td>0.0</td>\n",
       "      <td>1.000000e+00</td>\n",
       "      <td>1.000000e+00</td>\n",
       "      <td>1.000000e+00</td>\n",
       "      <td>5.000000e+00</td>\n",
       "    </tr>\n",
       "    <tr>\n",
       "      <th>device_conn_type</th>\n",
       "      <td>40428967.0</td>\n",
       "      <td>3.313150e-01</td>\n",
       "      <td>8.547935e-01</td>\n",
       "      <td>0.0</td>\n",
       "      <td>0.000000e+00</td>\n",
       "      <td>0.000000e+00</td>\n",
       "      <td>0.000000e+00</td>\n",
       "      <td>5.000000e+00</td>\n",
       "    </tr>\n",
       "    <tr>\n",
       "      <th>C14</th>\n",
       "      <td>40428967.0</td>\n",
       "      <td>1.884181e+04</td>\n",
       "      <td>4.959457e+03</td>\n",
       "      <td>375.0</td>\n",
       "      <td>1.692000e+04</td>\n",
       "      <td>2.034600e+04</td>\n",
       "      <td>2.189400e+04</td>\n",
       "      <td>2.405200e+04</td>\n",
       "    </tr>\n",
       "    <tr>\n",
       "      <th>C15</th>\n",
       "      <td>40428967.0</td>\n",
       "      <td>3.188831e+02</td>\n",
       "      <td>2.127250e+01</td>\n",
       "      <td>120.0</td>\n",
       "      <td>3.200000e+02</td>\n",
       "      <td>3.200000e+02</td>\n",
       "      <td>3.200000e+02</td>\n",
       "      <td>1.024000e+03</td>\n",
       "    </tr>\n",
       "    <tr>\n",
       "      <th>C16</th>\n",
       "      <td>40428967.0</td>\n",
       "      <td>6.010201e+01</td>\n",
       "      <td>4.729538e+01</td>\n",
       "      <td>20.0</td>\n",
       "      <td>5.000000e+01</td>\n",
       "      <td>5.000000e+01</td>\n",
       "      <td>5.000000e+01</td>\n",
       "      <td>1.024000e+03</td>\n",
       "    </tr>\n",
       "    <tr>\n",
       "      <th>C17</th>\n",
       "      <td>40428967.0</td>\n",
       "      <td>2.112601e+03</td>\n",
       "      <td>6.094124e+02</td>\n",
       "      <td>112.0</td>\n",
       "      <td>1.863000e+03</td>\n",
       "      <td>2.323000e+03</td>\n",
       "      <td>2.526000e+03</td>\n",
       "      <td>2.758000e+03</td>\n",
       "    </tr>\n",
       "    <tr>\n",
       "      <th>C18</th>\n",
       "      <td>40428967.0</td>\n",
       "      <td>1.432499e+00</td>\n",
       "      <td>1.326227e+00</td>\n",
       "      <td>0.0</td>\n",
       "      <td>0.000000e+00</td>\n",
       "      <td>2.000000e+00</td>\n",
       "      <td>3.000000e+00</td>\n",
       "      <td>3.000000e+00</td>\n",
       "    </tr>\n",
       "    <tr>\n",
       "      <th>C19</th>\n",
       "      <td>40428967.0</td>\n",
       "      <td>2.271444e+02</td>\n",
       "      <td>3.510221e+02</td>\n",
       "      <td>33.0</td>\n",
       "      <td>3.500000e+01</td>\n",
       "      <td>3.900000e+01</td>\n",
       "      <td>1.710000e+02</td>\n",
       "      <td>1.959000e+03</td>\n",
       "    </tr>\n",
       "    <tr>\n",
       "      <th>C20</th>\n",
       "      <td>40428967.0</td>\n",
       "      <td>4.907818e+04</td>\n",
       "      <td>1.544843e+04</td>\n",
       "      <td>34464.0</td>\n",
       "      <td>3.454800e+04</td>\n",
       "      <td>3.465700e+04</td>\n",
       "      <td>6.553500e+04</td>\n",
       "      <td>6.553500e+04</td>\n",
       "    </tr>\n",
       "    <tr>\n",
       "      <th>C21</th>\n",
       "      <td>40428967.0</td>\n",
       "      <td>8.338229e+01</td>\n",
       "      <td>7.028996e+01</td>\n",
       "      <td>1.0</td>\n",
       "      <td>2.300000e+01</td>\n",
       "      <td>6.100000e+01</td>\n",
       "      <td>1.010000e+02</td>\n",
       "      <td>2.550000e+02</td>\n",
       "    </tr>\n",
       "  </tbody>\n",
       "</table>\n",
       "</div>"
      ],
      "text/plain": [
       "                       count          mean           std         min  \\\n",
       "id                40428967.0  2.147588e+09  1.239805e+09       217.0   \n",
       "click             40428967.0  1.698056e-01  3.754620e-01         0.0   \n",
       "hour              40428967.0  1.410256e+07  2.966837e+02  14102100.0   \n",
       "C1                40428967.0  1.004968e+03  1.094586e+00      1001.0   \n",
       "banner_pos        40428967.0  2.880146e-01  5.063820e-01         0.0   \n",
       "device_type       40428967.0  1.015305e+00  5.274336e-01         0.0   \n",
       "device_conn_type  40428967.0  3.313150e-01  8.547935e-01         0.0   \n",
       "C14               40428967.0  1.884181e+04  4.959457e+03       375.0   \n",
       "C15               40428967.0  3.188831e+02  2.127250e+01       120.0   \n",
       "C16               40428967.0  6.010201e+01  4.729538e+01        20.0   \n",
       "C17               40428967.0  2.112601e+03  6.094124e+02       112.0   \n",
       "C18               40428967.0  1.432499e+00  1.326227e+00         0.0   \n",
       "C19               40428967.0  2.271444e+02  3.510221e+02        33.0   \n",
       "C20               40428967.0  4.907818e+04  1.544843e+04     34464.0   \n",
       "C21               40428967.0  8.338229e+01  7.028996e+01         1.0   \n",
       "\n",
       "                           25%           50%           75%           max  \n",
       "id                1.074381e+09  2.147369e+09  3.221347e+09  4.294967e+09  \n",
       "click             0.000000e+00  0.000000e+00  0.000000e+00  1.000000e+00  \n",
       "hour              1.410230e+07  1.410260e+07  1.410281e+07  1.410302e+07  \n",
       "C1                1.005000e+03  1.005000e+03  1.005000e+03  1.012000e+03  \n",
       "banner_pos        0.000000e+00  0.000000e+00  1.000000e+00  7.000000e+00  \n",
       "device_type       1.000000e+00  1.000000e+00  1.000000e+00  5.000000e+00  \n",
       "device_conn_type  0.000000e+00  0.000000e+00  0.000000e+00  5.000000e+00  \n",
       "C14               1.692000e+04  2.034600e+04  2.189400e+04  2.405200e+04  \n",
       "C15               3.200000e+02  3.200000e+02  3.200000e+02  1.024000e+03  \n",
       "C16               5.000000e+01  5.000000e+01  5.000000e+01  1.024000e+03  \n",
       "C17               1.863000e+03  2.323000e+03  2.526000e+03  2.758000e+03  \n",
       "C18               0.000000e+00  2.000000e+00  3.000000e+00  3.000000e+00  \n",
       "C19               3.500000e+01  3.900000e+01  1.710000e+02  1.959000e+03  \n",
       "C20               3.454800e+04  3.465700e+04  6.553500e+04  6.553500e+04  \n",
       "C21               2.300000e+01  6.100000e+01  1.010000e+02  2.550000e+02  "
      ]
     },
     "execution_count": 10,
     "metadata": {},
     "output_type": "execute_result"
    }
   ],
   "source": [
    "data.describe().transpose()"
   ]
  },
  {
   "cell_type": "markdown",
   "metadata": {},
   "source": [
    "### Add new features for date, time and day of week based on column `hour`"
   ]
  },
  {
   "cell_type": "markdown",
   "metadata": {},
   "source": [
    "First, I would like to extract the day, day of week and hour information from the column `hour`. Also, in order to have a continuous time series, the column `week_hour` that starts from zero and will accumulate hours till the last day of the training / testing data."
   ]
  },
  {
   "cell_type": "code",
   "execution_count": 10,
   "metadata": {},
   "outputs": [],
   "source": [
    "def proc_date(df, date_fld):\n",
    "    df['date'] = pd.to_datetime(df[date_fld], format=\"%y%m%d%H\")\n",
    "    for n in ('hour', 'day', 'dayofweek'):\n",
    "        df[\"click_\"+n] = getattr(df['date'].dt, n)\n",
    "    df.drop(['date'], axis=1, inplace=True)\n",
    "    df['hour_prev'] =  df['click_hour']-1\n",
    "    df['hour_next'] =  df['click_hour']+1\n",
    "    df['wk_hour'] =  df['click_dayofweek']*24 + df['click_hour']\n",
    "    df['wk_hour_prev'] =  df['wk_hour']-1\n",
    "    df['wk_hour_next'] =  df['wk_hour']+1\n",
    "    \n",
    "    for col in ['click_hour', 'click_day', 'click_dayofweek',\n",
    "                'wk_hour', 'wk_hour_prev', 'wk_hour_next']:\n",
    "        df[col] = df[col].astype('int8')"
   ]
  },
  {
   "cell_type": "code",
   "execution_count": 11,
   "metadata": {},
   "outputs": [],
   "source": [
    "proc_date(data, 'hour')\n",
    "proc_date(test_set, 'hour')"
   ]
  },
  {
   "cell_type": "code",
   "execution_count": 12,
   "metadata": {},
   "outputs": [],
   "source": [
    "# convert type for memory\n",
    "for col in ['hour_prev', 'hour_next']:\n",
    "    data[col] = data[col].astype('int8')\n",
    "    test_set[col] = data[col].astype('int8')"
   ]
  },
  {
   "cell_type": "code",
   "execution_count": 13,
   "metadata": {},
   "outputs": [
    {
     "data": {
      "text/html": [
       "<div>\n",
       "<style scoped>\n",
       "    .dataframe tbody tr th:only-of-type {\n",
       "        vertical-align: middle;\n",
       "    }\n",
       "\n",
       "    .dataframe tbody tr th {\n",
       "        vertical-align: top;\n",
       "    }\n",
       "\n",
       "    .dataframe thead th {\n",
       "        text-align: right;\n",
       "    }\n",
       "</style>\n",
       "<table border=\"1\" class=\"dataframe\">\n",
       "  <thead>\n",
       "    <tr style=\"text-align: right;\">\n",
       "      <th></th>\n",
       "      <th>40428962</th>\n",
       "      <th>40428963</th>\n",
       "      <th>40428964</th>\n",
       "      <th>40428965</th>\n",
       "      <th>40428966</th>\n",
       "    </tr>\n",
       "  </thead>\n",
       "  <tbody>\n",
       "    <tr>\n",
       "      <th>C21</th>\n",
       "      <td>23</td>\n",
       "      <td>221</td>\n",
       "      <td>46</td>\n",
       "      <td>23</td>\n",
       "      <td>221</td>\n",
       "    </tr>\n",
       "    <tr>\n",
       "      <th>click_hour</th>\n",
       "      <td>23</td>\n",
       "      <td>23</td>\n",
       "      <td>23</td>\n",
       "      <td>23</td>\n",
       "      <td>23</td>\n",
       "    </tr>\n",
       "    <tr>\n",
       "      <th>click_day</th>\n",
       "      <td>30</td>\n",
       "      <td>30</td>\n",
       "      <td>30</td>\n",
       "      <td>30</td>\n",
       "      <td>30</td>\n",
       "    </tr>\n",
       "    <tr>\n",
       "      <th>click_dayofweek</th>\n",
       "      <td>3</td>\n",
       "      <td>3</td>\n",
       "      <td>3</td>\n",
       "      <td>3</td>\n",
       "      <td>3</td>\n",
       "    </tr>\n",
       "    <tr>\n",
       "      <th>hour_prev</th>\n",
       "      <td>22</td>\n",
       "      <td>22</td>\n",
       "      <td>22</td>\n",
       "      <td>22</td>\n",
       "      <td>22</td>\n",
       "    </tr>\n",
       "    <tr>\n",
       "      <th>hour_next</th>\n",
       "      <td>24</td>\n",
       "      <td>24</td>\n",
       "      <td>24</td>\n",
       "      <td>24</td>\n",
       "      <td>24</td>\n",
       "    </tr>\n",
       "    <tr>\n",
       "      <th>wk_hour</th>\n",
       "      <td>95</td>\n",
       "      <td>95</td>\n",
       "      <td>95</td>\n",
       "      <td>95</td>\n",
       "      <td>95</td>\n",
       "    </tr>\n",
       "    <tr>\n",
       "      <th>wk_hour_prev</th>\n",
       "      <td>94</td>\n",
       "      <td>94</td>\n",
       "      <td>94</td>\n",
       "      <td>94</td>\n",
       "      <td>94</td>\n",
       "    </tr>\n",
       "    <tr>\n",
       "      <th>wk_hour_next</th>\n",
       "      <td>96</td>\n",
       "      <td>96</td>\n",
       "      <td>96</td>\n",
       "      <td>96</td>\n",
       "      <td>96</td>\n",
       "    </tr>\n",
       "    <tr>\n",
       "      <th>user_id</th>\n",
       "      <td>a99f214adcf40646d9a2d3a9</td>\n",
       "      <td>a99f214ae5751bb2cd5b1559</td>\n",
       "      <td>a99f214a47e5bb5b2cd8ff6d</td>\n",
       "      <td>454877d92dfaa2fbf063b808</td>\n",
       "      <td>a99f214a372c853c711ee120</td>\n",
       "    </tr>\n",
       "  </tbody>\n",
       "</table>\n",
       "</div>"
      ],
      "text/plain": [
       "                                 40428962                  40428963  \\\n",
       "C21                                    23                       221   \n",
       "click_hour                             23                        23   \n",
       "click_day                              30                        30   \n",
       "click_dayofweek                         3                         3   \n",
       "hour_prev                              22                        22   \n",
       "hour_next                              24                        24   \n",
       "wk_hour                                95                        95   \n",
       "wk_hour_prev                           94                        94   \n",
       "wk_hour_next                           96                        96   \n",
       "user_id          a99f214adcf40646d9a2d3a9  a99f214ae5751bb2cd5b1559   \n",
       "\n",
       "                                 40428964                  40428965  \\\n",
       "C21                                    46                        23   \n",
       "click_hour                             23                        23   \n",
       "click_day                              30                        30   \n",
       "click_dayofweek                         3                         3   \n",
       "hour_prev                              22                        22   \n",
       "hour_next                              24                        24   \n",
       "wk_hour                                95                        95   \n",
       "wk_hour_prev                           94                        94   \n",
       "wk_hour_next                           96                        96   \n",
       "user_id          a99f214a47e5bb5b2cd8ff6d  454877d92dfaa2fbf063b808   \n",
       "\n",
       "                                 40428966  \n",
       "C21                                   221  \n",
       "click_hour                             23  \n",
       "click_day                              30  \n",
       "click_dayofweek                         3  \n",
       "hour_prev                              22  \n",
       "hour_next                              24  \n",
       "wk_hour                                95  \n",
       "wk_hour_prev                           94  \n",
       "wk_hour_next                           96  \n",
       "user_id          a99f214a372c853c711ee120  "
      ]
     },
     "execution_count": 13,
     "metadata": {},
     "output_type": "execute_result"
    }
   ],
   "source": [
    "data.tail().transpose().tail(10)"
   ]
  },
  {
   "cell_type": "markdown",
   "metadata": {},
   "source": [
    "Looking at how the probability of click per hour varies significantly between each hour, so we should create features that could highlight what contributes to this variation. The featuresthat are to be engineered include:  \n",
    "- Count per users in every hour, in the previous hour and the next hour\n",
    "- Probability of click per hour"
   ]
  },
  {
   "cell_type": "code",
   "execution_count": 14,
   "metadata": {},
   "outputs": [
    {
     "data": {
      "image/png": "[encoded data removed]",
      "text/plain": [
       "<matplotlib.figure.Figure at 0x7f27e7246550>"
      ]
     },
     "metadata": {},
     "output_type": "display_data"
    }
   ],
   "source": [
    "plt.figure(figsize=(20,6))\n",
    "fld = \"click_hour\"\n",
    "tmp = data.groupby(fld).click.mean().reset_index()\n",
    "plt.plot(tmp[fld], tmp[\"click\"], linewidth=3.0, marker='o', color=\"#C00000\")\n",
    "plt.title(\"Average Click Rate by Hour\")\n",
    "plt.xticks(np.arange(0, 24, 1))\n",
    "plt.xlabel(\"Hour\")\n",
    "plt.show()"
   ]
  },
  {
   "cell_type": "markdown",
   "metadata": {},
   "source": [
    "Notice how there is quite an imbalance in data distribution, the majority of ads (83%) were not clicked. We will need to take this to take into account while buidling the random forest model. "
   ]
  },
  {
   "cell_type": "code",
   "execution_count": 15,
   "metadata": {},
   "outputs": [
    {
     "data": {
      "text/plain": [
       "0    0.830194\n",
       "1    0.169806\n",
       "Name: click, dtype: float64"
      ]
     },
     "execution_count": 15,
     "metadata": {},
     "output_type": "execute_result"
    }
   ],
   "source": [
    "# imbalanced dataset\n",
    "data.click.value_counts()/len(data)"
   ]
  },
  {
   "cell_type": "markdown",
   "metadata": {},
   "source": [
    "We also would like to observe the counts of click and no click on a specific day of the week. Herein, Tuesday-Thursday seem to have the highest number of samples in the training dataset. The testing set is only on Friday (label `4`), so it will be helpful if we include the probability of click per day of week as an additional feature "
   ]
  },
  {
   "cell_type": "code",
   "execution_count": 16,
   "metadata": {},
   "outputs": [
    {
     "data": {
      "text/plain": [
       "array([4])"
      ]
     },
     "execution_count": 16,
     "metadata": {},
     "output_type": "execute_result"
    }
   ],
   "source": [
    "test_set['click_dayofweek'].unique()"
   ]
  },
  {
   "cell_type": "code",
   "execution_count": 17,
   "metadata": {},
   "outputs": [
    {
     "data": {
      "text/plain": [
       "<matplotlib.text.Text at 0x7f286caf7128>"
      ]
     },
     "execution_count": 17,
     "metadata": {},
     "output_type": "execute_result"
    },
    {
     "data": {
      "image/png": "[encoded data removed]",
      "text/plain": [
       "<matplotlib.figure.Figure at 0x7f27e7246278>"
      ]
     },
     "metadata": {},
     "output_type": "display_data"
    }
   ],
   "source": [
    "# number of clicks & no clicks by day of week\n",
    "tmp = data.groupby(['click_dayofweek', 'click']).agg({'id': 'count'})\n",
    "tmp = tmp.pivot_table(columns=['click'], index=['click_dayofweek'], values='id')\n",
    "tmp.loc[:,[0,1]].plot.bar(stacked=True, width=0.7, figsize=(10,5))\n",
    "plt.title(\"Count of Samples by Day of Week\")"
   ]
  },
  {
   "cell_type": "markdown",
   "metadata": {},
   "source": [
    "Amongst the anomynized columns C1, C14-C17, we also observe some imbalanced distribution for variable `C21`, it will also be helpful to include the probability of click / average number of clicks by label for this categorical variable:"
   ]
  },
  {
   "cell_type": "code",
   "execution_count": 18,
   "metadata": {},
   "outputs": [
    {
     "data": {
      "text/plain": [
       "<matplotlib.text.Text at 0x7f286ca343c8>"
      ]
     },
     "execution_count": 18,
     "metadata": {},
     "output_type": "execute_result"
    },
    {
     "data": {
      "image/png": "[encoded data removed]",
      "text/plain": [
       "<matplotlib.figure.Figure at 0x7f27e7295c50>"
      ]
     },
     "metadata": {},
     "output_type": "display_data"
    }
   ],
   "source": [
    "# column by anomynized columns\n",
    "tmp = data.groupby('C21').click.mean().reset_index()\n",
    "tmp['click'].plot.bar(color= 'steelblue', width=0.8, figsize=(20,5))\n",
    "plt.title(\"Average Number of Clicks by Label (C21)\")\n",
    "plt.xlabel(\"C21 Label\")"
   ]
  },
  {
   "cell_type": "markdown",
   "metadata": {},
   "source": [
    "User in this case study will be identified by `user_id` as a combination of `device_id`, `device_ip` and `device_model`:"
   ]
  },
  {
   "cell_type": "code",
   "execution_count": 21,
   "metadata": {},
   "outputs": [],
   "source": [
    "# create user_id using device_id, device_ip, device_model\n",
    "for df in [data, test_set]:\n",
    "    df['user_id'] = df['device_id']+df['device_ip']+df['device_model']"
   ]
  },
  {
   "cell_type": "code",
   "execution_count": 23,
   "metadata": {},
   "outputs": [],
   "source": [
    "data.to_feather(path+\"data_ft\")\n",
    "test_set.to_feather(path+\"test_set\")"
   ]
  },
  {
   "cell_type": "markdown",
   "metadata": {},
   "source": [
    "### Split Train & Validation"
   ]
  },
  {
   "cell_type": "markdown",
   "metadata": {},
   "source": [
    "Instead of using the split ratio of 80:20, since this data is a time series and we would like to have a validation set as close as possible to the test set, observations of day 29 and 30 will be the validation set and anything else will remain as training data."
   ]
  },
  {
   "cell_type": "code",
   "execution_count": 7,
   "metadata": {},
   "outputs": [
    {
     "name": "stdout",
     "output_type": "stream",
     "text": [
      "CPU times: user 23.6 s, sys: 13.1 s, total: 36.6 s\n",
      "Wall time: 36.6 s\n"
     ]
    }
   ],
   "source": [
    "%%time\n",
    "data = pd.read_feather(path + \"data_ft\")\n",
    "test_set = pd.read_feather(path + \"test_set\")"
   ]
  },
  {
   "cell_type": "code",
   "execution_count": 8,
   "metadata": {},
   "outputs": [],
   "source": [
    "def split_based_hour(data, col):\n",
    "    \"\"\" Split data based on column hour. Modified to take other columns\n",
    "    \"\"\"\n",
    "    # N = int(0.8*len(data))\n",
    "    # data = data.sort_values(by=col)-data was ordered chronologically\n",
    "    train = data[data['click_day']<29]\n",
    "    val = data[data['click_day']>=29]\n",
    "    return train.reset_index(), val.reset_index()"
   ]
  },
  {
   "cell_type": "code",
   "execution_count": 9,
   "metadata": {},
   "outputs": [
    {
     "name": "stdout",
     "output_type": "stream",
     "text": [
      "(32377421, 34) (8051546, 34)\n"
     ]
    }
   ],
   "source": [
    "# split train and validation\n",
    "train_set, val_set = split_based_hour(data, col='dt')\n",
    "print(train_set.shape, val_set.shape)"
   ]
  },
  {
   "cell_type": "code",
   "execution_count": 10,
   "metadata": {},
   "outputs": [],
   "source": [
    "save_feather(test_df=True)"
   ]
  },
  {
   "cell_type": "markdown",
   "metadata": {},
   "source": [
    "#### Target Mean Encoding"
   ]
  },
  {
   "cell_type": "markdown",
   "metadata": {},
   "source": [
    "Using the mean encoding method, we will calculate the probability of click by hour, day of week, device_id, connection type, banner position, etc. The column C14-C21 are also categorical variables but most of them have high cardinality, so only column C21 is appropriate to be target encoded."
   ]
  },
  {
   "cell_type": "code",
   "execution_count": 6,
   "metadata": {},
   "outputs": [],
   "source": [
    "train_set, val_set, test_set = load_feather(test_df=True)"
   ]
  },
  {
   "cell_type": "code",
   "execution_count": 12,
   "metadata": {},
   "outputs": [
    {
     "name": "stdout",
     "output_type": "stream",
     "text": [
      "processing click_hour\n",
      "processing click_dayofweek\n",
      "processing wk_hour\n",
      "processing device_type\n",
      "processing device_conn_type\n",
      "processing banner_pos\n",
      "processing site_category\n",
      "processing app_category\n",
      "processing device_type\n",
      "processing C21\n"
     ]
    }
   ],
   "source": [
    "for col in [\"click_hour\", \"click_dayofweek\", \"wk_hour\",\n",
    "             \"device_type\", \"device_conn_type\",\"banner_pos\",\n",
    "             \"site_category\", \"app_category\", \"device_type\", \"C21\"]:\n",
    "    print(\"processing %s\" % col)\n",
    "    gby = train_set.groupby(col).click.mean()\n",
    "    train_set['click_gby_'+col] = train_set[col].map(gby)\n",
    "    val_set['click_gby_'+col] = val_set[col].map(gby)\n",
    "    test_set['click_gby_'+col] = test_set[col].map(gby)\n",
    "    \n",
    "    # fill na\n",
    "    click_global_mean = train_set.click.mean()\n",
    "    val_set['click_gby_'+col].fillna(click_global_mean, inplace=True)\n",
    "    test_set['click_gby_'+col].fillna(click_global_mean, inplace=True)"
   ]
  },
  {
   "cell_type": "code",
   "execution_count": 13,
   "metadata": {},
   "outputs": [
    {
     "data": {
      "text/html": [
       "<div>\n",
       "<style scoped>\n",
       "    .dataframe tbody tr th:only-of-type {\n",
       "        vertical-align: middle;\n",
       "    }\n",
       "\n",
       "    .dataframe tbody tr th {\n",
       "        vertical-align: top;\n",
       "    }\n",
       "\n",
       "    .dataframe thead th {\n",
       "        text-align: right;\n",
       "    }\n",
       "</style>\n",
       "<table border=\"1\" class=\"dataframe\">\n",
       "  <thead>\n",
       "    <tr style=\"text-align: right;\">\n",
       "      <th></th>\n",
       "      <th>index</th>\n",
       "      <th>id</th>\n",
       "      <th>click</th>\n",
       "      <th>hour</th>\n",
       "      <th>C1</th>\n",
       "      <th>banner_pos</th>\n",
       "      <th>site_id</th>\n",
       "      <th>site_domain</th>\n",
       "      <th>site_category</th>\n",
       "      <th>app_id</th>\n",
       "      <th>...</th>\n",
       "      <th>user_id</th>\n",
       "      <th>click_gby_click_hour</th>\n",
       "      <th>click_gby_click_dayofweek</th>\n",
       "      <th>click_gby_wk_hour</th>\n",
       "      <th>click_gby_device_type</th>\n",
       "      <th>click_gby_device_conn_type</th>\n",
       "      <th>click_gby_banner_pos</th>\n",
       "      <th>click_gby_site_category</th>\n",
       "      <th>click_gby_app_category</th>\n",
       "      <th>click_gby_C21</th>\n",
       "    </tr>\n",
       "  </thead>\n",
       "  <tbody>\n",
       "    <tr>\n",
       "      <th>0</th>\n",
       "      <td>0</td>\n",
       "      <td>2096162817</td>\n",
       "      <td>0</td>\n",
       "      <td>14102100</td>\n",
       "      <td>1005</td>\n",
       "      <td>0</td>\n",
       "      <td>1fbe01fe</td>\n",
       "      <td>f3845767</td>\n",
       "      <td>28905ebd</td>\n",
       "      <td>ecad2386</td>\n",
       "      <td>...</td>\n",
       "      <td>a99f214addd2926e44956a24</td>\n",
       "      <td>0.182544</td>\n",
       "      <td>0.161828</td>\n",
       "      <td>0.179724</td>\n",
       "      <td>0.17095</td>\n",
       "      <td>0.141877</td>\n",
       "      <td>0.166862</td>\n",
       "      <td>0.211465</td>\n",
       "      <td>0.200849</td>\n",
       "      <td>0.190324</td>\n",
       "    </tr>\n",
       "    <tr>\n",
       "      <th>1</th>\n",
       "      <td>1</td>\n",
       "      <td>871065379</td>\n",
       "      <td>0</td>\n",
       "      <td>14102100</td>\n",
       "      <td>1005</td>\n",
       "      <td>0</td>\n",
       "      <td>1fbe01fe</td>\n",
       "      <td>f3845767</td>\n",
       "      <td>28905ebd</td>\n",
       "      <td>ecad2386</td>\n",
       "      <td>...</td>\n",
       "      <td>a99f214a96809ac8711ee120</td>\n",
       "      <td>0.182544</td>\n",
       "      <td>0.161828</td>\n",
       "      <td>0.179724</td>\n",
       "      <td>0.17095</td>\n",
       "      <td>0.182639</td>\n",
       "      <td>0.166862</td>\n",
       "      <td>0.211465</td>\n",
       "      <td>0.200849</td>\n",
       "      <td>0.190324</td>\n",
       "    </tr>\n",
       "    <tr>\n",
       "      <th>2</th>\n",
       "      <td>2</td>\n",
       "      <td>1015674494</td>\n",
       "      <td>0</td>\n",
       "      <td>14102100</td>\n",
       "      <td>1005</td>\n",
       "      <td>0</td>\n",
       "      <td>1fbe01fe</td>\n",
       "      <td>f3845767</td>\n",
       "      <td>28905ebd</td>\n",
       "      <td>ecad2386</td>\n",
       "      <td>...</td>\n",
       "      <td>a99f214ab3cf8def8a4875bd</td>\n",
       "      <td>0.182544</td>\n",
       "      <td>0.161828</td>\n",
       "      <td>0.179724</td>\n",
       "      <td>0.17095</td>\n",
       "      <td>0.182639</td>\n",
       "      <td>0.166862</td>\n",
       "      <td>0.211465</td>\n",
       "      <td>0.200849</td>\n",
       "      <td>0.190324</td>\n",
       "    </tr>\n",
       "    <tr>\n",
       "      <th>3</th>\n",
       "      <td>3</td>\n",
       "      <td>3573304040</td>\n",
       "      <td>0</td>\n",
       "      <td>14102100</td>\n",
       "      <td>1005</td>\n",
       "      <td>0</td>\n",
       "      <td>1fbe01fe</td>\n",
       "      <td>f3845767</td>\n",
       "      <td>28905ebd</td>\n",
       "      <td>ecad2386</td>\n",
       "      <td>...</td>\n",
       "      <td>a99f214ae8275b8f6332421a</td>\n",
       "      <td>0.182544</td>\n",
       "      <td>0.161828</td>\n",
       "      <td>0.179724</td>\n",
       "      <td>0.17095</td>\n",
       "      <td>0.182639</td>\n",
       "      <td>0.166862</td>\n",
       "      <td>0.211465</td>\n",
       "      <td>0.200849</td>\n",
       "      <td>0.190324</td>\n",
       "    </tr>\n",
       "    <tr>\n",
       "      <th>4</th>\n",
       "      <td>4</td>\n",
       "      <td>2926390960</td>\n",
       "      <td>0</td>\n",
       "      <td>14102100</td>\n",
       "      <td>1005</td>\n",
       "      <td>1</td>\n",
       "      <td>fe8cc448</td>\n",
       "      <td>9166c161</td>\n",
       "      <td>0569f928</td>\n",
       "      <td>ecad2386</td>\n",
       "      <td>...</td>\n",
       "      <td>a99f214a9644d0bf779d90c2</td>\n",
       "      <td>0.182544</td>\n",
       "      <td>0.161828</td>\n",
       "      <td>0.179724</td>\n",
       "      <td>0.17095</td>\n",
       "      <td>0.182639</td>\n",
       "      <td>0.182691</td>\n",
       "      <td>0.052671</td>\n",
       "      <td>0.200849</td>\n",
       "      <td>0.115366</td>\n",
       "    </tr>\n",
       "  </tbody>\n",
       "</table>\n",
       "<p>5 rows × 43 columns</p>\n",
       "</div>"
      ],
      "text/plain": [
       "   index          id  click      hour    C1  banner_pos   site_id site_domain  \\\n",
       "0      0  2096162817      0  14102100  1005           0  1fbe01fe    f3845767   \n",
       "1      1   871065379      0  14102100  1005           0  1fbe01fe    f3845767   \n",
       "2      2  1015674494      0  14102100  1005           0  1fbe01fe    f3845767   \n",
       "3      3  3573304040      0  14102100  1005           0  1fbe01fe    f3845767   \n",
       "4      4  2926390960      0  14102100  1005           1  fe8cc448    9166c161   \n",
       "\n",
       "  site_category    app_id      ...                         user_id  \\\n",
       "0      28905ebd  ecad2386      ...        a99f214addd2926e44956a24   \n",
       "1      28905ebd  ecad2386      ...        a99f214a96809ac8711ee120   \n",
       "2      28905ebd  ecad2386      ...        a99f214ab3cf8def8a4875bd   \n",
       "3      28905ebd  ecad2386      ...        a99f214ae8275b8f6332421a   \n",
       "4      0569f928  ecad2386      ...        a99f214a9644d0bf779d90c2   \n",
       "\n",
       "  click_gby_click_hour click_gby_click_dayofweek click_gby_wk_hour  \\\n",
       "0             0.182544                  0.161828          0.179724   \n",
       "1             0.182544                  0.161828          0.179724   \n",
       "2             0.182544                  0.161828          0.179724   \n",
       "3             0.182544                  0.161828          0.179724   \n",
       "4             0.182544                  0.161828          0.179724   \n",
       "\n",
       "  click_gby_device_type  click_gby_device_conn_type  click_gby_banner_pos  \\\n",
       "0               0.17095                    0.141877              0.166862   \n",
       "1               0.17095                    0.182639              0.166862   \n",
       "2               0.17095                    0.182639              0.166862   \n",
       "3               0.17095                    0.182639              0.166862   \n",
       "4               0.17095                    0.182639              0.182691   \n",
       "\n",
       "   click_gby_site_category  click_gby_app_category  click_gby_C21  \n",
       "0                 0.211465                0.200849       0.190324  \n",
       "1                 0.211465                0.200849       0.190324  \n",
       "2                 0.211465                0.200849       0.190324  \n",
       "3                 0.211465                0.200849       0.190324  \n",
       "4                 0.052671                0.200849       0.115366  \n",
       "\n",
       "[5 rows x 43 columns]"
      ]
     },
     "execution_count": 13,
     "metadata": {},
     "output_type": "execute_result"
    }
   ],
   "source": [
    "train_set.head()"
   ]
  },
  {
   "cell_type": "code",
   "execution_count": 14,
   "metadata": {},
   "outputs": [],
   "source": [
    "# combine anomynized columns\n",
    "for df in [train_set, val_set, test_set]: \n",
    "    df['c_combined'] = df['C1']+df['C14']+df['C15']+df['C16']+df['C17']+df['C18']+df['C19']+\\\n",
    "                        df['C20']+df['C21']"
   ]
  },
  {
   "cell_type": "code",
   "execution_count": 15,
   "metadata": {},
   "outputs": [],
   "source": [
    "save_feather(test_df=True)"
   ]
  },
  {
   "cell_type": "markdown",
   "metadata": {},
   "source": [
    "#### Count Features"
   ]
  },
  {
   "cell_type": "markdown",
   "metadata": {},
   "source": [
    "The next type of feature is count the number of samples for each label of `device_ip`, `device_id`, `user_id` in the dataset. The number of times a user appears for every hour will also be added as a feature.\n",
    "\n",
    "_Rerefence: https://www.csie.ntu.edu.tw/~r01922136/slides/kaggle-avazu.pdf_"
   ]
  },
  {
   "cell_type": "code",
   "execution_count": 7,
   "metadata": {},
   "outputs": [],
   "source": [
    "train_set, val_set, test_set = load_feather(test_df=True)"
   ]
  },
  {
   "cell_type": "code",
   "execution_count": 16,
   "metadata": {},
   "outputs": [],
   "source": [
    "for col in ['device_ip', 'device_id', 'user_id']: \n",
    "    count = train_set.groupby(col).index.count()\n",
    "    train_set['cnt_'+col] = train_set[col].map(count)\n",
    "    val_set['cnt_'+col] = val_set[col].map(count)\n",
    "    test_set['cnt_'+col] = test_set[col].map(count)"
   ]
  },
  {
   "cell_type": "code",
   "execution_count": 17,
   "metadata": {},
   "outputs": [],
   "source": [
    "cols = ['user_id', 'click_hour']\n",
    "hour_user_cnt = train_set.groupby(cols).agg({'index': 'count'}).reset_index()\n",
    "hour_user_cnt.columns = [ cols[0], cols[1], 'cnt_by_user_hour' ]\n",
    "\n",
    "train_set = pd.merge(train_set, hour_user_cnt, how='left', on=cols)\n",
    "val_set = pd.merge(val_set, hour_user_cnt, how='left', on=cols)\n",
    "test_set = pd.merge(test_set, hour_user_cnt, how='left', on=cols)"
   ]
  },
  {
   "cell_type": "code",
   "execution_count": 18,
   "metadata": {},
   "outputs": [],
   "source": [
    "for col in ['cnt_device_ip', 'cnt_device_id', 'cnt_user_id', 'cnt_by_user_hour']:\n",
    "    val_set[col].fillna(0, inplace=True)\n",
    "    test_set[col].fillna(0, inplace=True)"
   ]
  },
  {
   "cell_type": "code",
   "execution_count": 19,
   "metadata": {},
   "outputs": [
    {
     "data": {
      "text/html": [
       "<div>\n",
       "<style scoped>\n",
       "    .dataframe tbody tr th:only-of-type {\n",
       "        vertical-align: middle;\n",
       "    }\n",
       "\n",
       "    .dataframe tbody tr th {\n",
       "        vertical-align: top;\n",
       "    }\n",
       "\n",
       "    .dataframe thead th {\n",
       "        text-align: right;\n",
       "    }\n",
       "</style>\n",
       "<table border=\"1\" class=\"dataframe\">\n",
       "  <thead>\n",
       "    <tr style=\"text-align: right;\">\n",
       "      <th></th>\n",
       "      <th>index</th>\n",
       "      <th>id</th>\n",
       "      <th>click</th>\n",
       "      <th>hour</th>\n",
       "      <th>C1</th>\n",
       "      <th>banner_pos</th>\n",
       "      <th>site_id</th>\n",
       "      <th>site_domain</th>\n",
       "      <th>site_category</th>\n",
       "      <th>app_id</th>\n",
       "      <th>...</th>\n",
       "      <th>click_gby_device_conn_type</th>\n",
       "      <th>click_gby_banner_pos</th>\n",
       "      <th>click_gby_site_category</th>\n",
       "      <th>click_gby_app_category</th>\n",
       "      <th>click_gby_C21</th>\n",
       "      <th>c_combined</th>\n",
       "      <th>cnt_device_ip</th>\n",
       "      <th>cnt_device_id</th>\n",
       "      <th>cnt_user_id</th>\n",
       "      <th>cnt_by_user_hour</th>\n",
       "    </tr>\n",
       "  </thead>\n",
       "  <tbody>\n",
       "    <tr>\n",
       "      <th>0</th>\n",
       "      <td>0</td>\n",
       "      <td>2096162817</td>\n",
       "      <td>0</td>\n",
       "      <td>14102100</td>\n",
       "      <td>1005</td>\n",
       "      <td>0</td>\n",
       "      <td>1fbe01fe</td>\n",
       "      <td>f3845767</td>\n",
       "      <td>28905ebd</td>\n",
       "      <td>ecad2386</td>\n",
       "      <td>...</td>\n",
       "      <td>0.141877</td>\n",
       "      <td>0.166862</td>\n",
       "      <td>0.211465</td>\n",
       "      <td>0.200849</td>\n",
       "      <td>0.190324</td>\n",
       "      <td>84452</td>\n",
       "      <td>58181</td>\n",
       "      <td>26752430</td>\n",
       "      <td>82</td>\n",
       "      <td>4</td>\n",
       "    </tr>\n",
       "    <tr>\n",
       "      <th>1</th>\n",
       "      <td>1</td>\n",
       "      <td>871065379</td>\n",
       "      <td>0</td>\n",
       "      <td>14102100</td>\n",
       "      <td>1005</td>\n",
       "      <td>0</td>\n",
       "      <td>1fbe01fe</td>\n",
       "      <td>f3845767</td>\n",
       "      <td>28905ebd</td>\n",
       "      <td>ecad2386</td>\n",
       "      <td>...</td>\n",
       "      <td>0.182639</td>\n",
       "      <td>0.166862</td>\n",
       "      <td>0.211465</td>\n",
       "      <td>0.200849</td>\n",
       "      <td>0.190324</td>\n",
       "      <td>53463</td>\n",
       "      <td>7</td>\n",
       "      <td>26752430</td>\n",
       "      <td>7</td>\n",
       "      <td>3</td>\n",
       "    </tr>\n",
       "    <tr>\n",
       "      <th>2</th>\n",
       "      <td>2</td>\n",
       "      <td>1015674494</td>\n",
       "      <td>0</td>\n",
       "      <td>14102100</td>\n",
       "      <td>1005</td>\n",
       "      <td>0</td>\n",
       "      <td>1fbe01fe</td>\n",
       "      <td>f3845767</td>\n",
       "      <td>28905ebd</td>\n",
       "      <td>ecad2386</td>\n",
       "      <td>...</td>\n",
       "      <td>0.182639</td>\n",
       "      <td>0.166862</td>\n",
       "      <td>0.211465</td>\n",
       "      <td>0.200849</td>\n",
       "      <td>0.190324</td>\n",
       "      <td>53463</td>\n",
       "      <td>4</td>\n",
       "      <td>26752430</td>\n",
       "      <td>4</td>\n",
       "      <td>2</td>\n",
       "    </tr>\n",
       "    <tr>\n",
       "      <th>3</th>\n",
       "      <td>3</td>\n",
       "      <td>3573304040</td>\n",
       "      <td>0</td>\n",
       "      <td>14102100</td>\n",
       "      <td>1005</td>\n",
       "      <td>0</td>\n",
       "      <td>1fbe01fe</td>\n",
       "      <td>f3845767</td>\n",
       "      <td>28905ebd</td>\n",
       "      <td>ecad2386</td>\n",
       "      <td>...</td>\n",
       "      <td>0.182639</td>\n",
       "      <td>0.166862</td>\n",
       "      <td>0.211465</td>\n",
       "      <td>0.200849</td>\n",
       "      <td>0.190324</td>\n",
       "      <td>53465</td>\n",
       "      <td>39</td>\n",
       "      <td>26752430</td>\n",
       "      <td>3</td>\n",
       "      <td>3</td>\n",
       "    </tr>\n",
       "    <tr>\n",
       "      <th>4</th>\n",
       "      <td>4</td>\n",
       "      <td>2926390960</td>\n",
       "      <td>0</td>\n",
       "      <td>14102100</td>\n",
       "      <td>1005</td>\n",
       "      <td>1</td>\n",
       "      <td>fe8cc448</td>\n",
       "      <td>9166c161</td>\n",
       "      <td>0569f928</td>\n",
       "      <td>ecad2386</td>\n",
       "      <td>...</td>\n",
       "      <td>0.182639</td>\n",
       "      <td>0.182691</td>\n",
       "      <td>0.052671</td>\n",
       "      <td>0.200849</td>\n",
       "      <td>0.115366</td>\n",
       "      <td>88256</td>\n",
       "      <td>31</td>\n",
       "      <td>26752430</td>\n",
       "      <td>31</td>\n",
       "      <td>15</td>\n",
       "    </tr>\n",
       "  </tbody>\n",
       "</table>\n",
       "<p>5 rows × 48 columns</p>\n",
       "</div>"
      ],
      "text/plain": [
       "   index          id  click      hour    C1  banner_pos   site_id site_domain  \\\n",
       "0      0  2096162817      0  14102100  1005           0  1fbe01fe    f3845767   \n",
       "1      1   871065379      0  14102100  1005           0  1fbe01fe    f3845767   \n",
       "2      2  1015674494      0  14102100  1005           0  1fbe01fe    f3845767   \n",
       "3      3  3573304040      0  14102100  1005           0  1fbe01fe    f3845767   \n",
       "4      4  2926390960      0  14102100  1005           1  fe8cc448    9166c161   \n",
       "\n",
       "  site_category    app_id        ...        click_gby_device_conn_type  \\\n",
       "0      28905ebd  ecad2386        ...                          0.141877   \n",
       "1      28905ebd  ecad2386        ...                          0.182639   \n",
       "2      28905ebd  ecad2386        ...                          0.182639   \n",
       "3      28905ebd  ecad2386        ...                          0.182639   \n",
       "4      0569f928  ecad2386        ...                          0.182639   \n",
       "\n",
       "  click_gby_banner_pos click_gby_site_category click_gby_app_category  \\\n",
       "0             0.166862                0.211465               0.200849   \n",
       "1             0.166862                0.211465               0.200849   \n",
       "2             0.166862                0.211465               0.200849   \n",
       "3             0.166862                0.211465               0.200849   \n",
       "4             0.182691                0.052671               0.200849   \n",
       "\n",
       "  click_gby_C21  c_combined  cnt_device_ip  cnt_device_id  cnt_user_id  \\\n",
       "0      0.190324       84452          58181       26752430           82   \n",
       "1      0.190324       53463              7       26752430            7   \n",
       "2      0.190324       53463              4       26752430            4   \n",
       "3      0.190324       53465             39       26752430            3   \n",
       "4      0.115366       88256             31       26752430           31   \n",
       "\n",
       "   cnt_by_user_hour  \n",
       "0                 4  \n",
       "1                 3  \n",
       "2                 2  \n",
       "3                 3  \n",
       "4                15  \n",
       "\n",
       "[5 rows x 48 columns]"
      ]
     },
     "execution_count": 19,
     "metadata": {},
     "output_type": "execute_result"
    }
   ],
   "source": [
    "train_set.head()"
   ]
  },
  {
   "cell_type": "markdown",
   "metadata": {},
   "source": [
    "### Interactive Features Pair"
   ]
  },
  {
   "cell_type": "markdown",
   "metadata": {},
   "source": [
    "Concatenating possibly related features, such as `app_id`-`device_model`, `site-id`-`device_model` which can capture the impact of each app / site on different device models also sounds like a beneficial addition to the classification. Some companies have a very different market share between mobile and desktop, and so will their marketing impact on different channels. \n",
    "\n",
    "_Rerefence: https://www.csie.ntu.edu.tw/~r01922136/slides/kaggle-avazu.pdf_"
   ]
  },
  {
   "cell_type": "code",
   "execution_count": 9,
   "metadata": {},
   "outputs": [],
   "source": [
    "def create_interac(col1, col2, train, val, test):\n",
    "    # add concatenated columns    \n",
    "    new_col = \"_\".join([col1, col2])\n",
    "    train[new_col] = (train[col1]+train[col2]).astype('category')\n",
    "    val[new_col] = (val[col1]+val[col2]).astype('category')\n",
    "    test[new_col] = (test[col1]+test[col2]).astype('category')"
   ]
  },
  {
   "cell_type": "code",
   "execution_count": 10,
   "metadata": {},
   "outputs": [],
   "source": [
    "for cols in [['app_id', 'site_id'], \n",
    "             ['app_domain', 'site_domain'],\n",
    "             ['app_id', 'device_model'],\n",
    "             ['site_id', 'device_model'],\n",
    "             ['site_id', 'site_domain']]:\n",
    "    create_interac(cols[0], cols[1], train_set, val_set, test_set)"
   ]
  },
  {
   "cell_type": "code",
   "execution_count": 11,
   "metadata": {},
   "outputs": [],
   "source": [
    "save_feather(test_df=True)"
   ]
  },
  {
   "cell_type": "markdown",
   "metadata": {},
   "source": [
    "### User Click History"
   ]
  },
  {
   "cell_type": "markdown",
   "metadata": {},
   "source": [
    "In addition to the number of times a user appears per hour, we also care about the number of times he/she appear in the hour before and next, so we have a little time-series of hourly user count within an interval of 3 hours."
   ]
  },
  {
   "cell_type": "code",
   "execution_count": 12,
   "metadata": {},
   "outputs": [],
   "source": [
    "cols = ['user_id', 'click_hour']\n",
    "hour_user_cnt = train_set.groupby(cols).agg({'index': 'count'}).reset_index()\n",
    "hour_user_cnt.columns = [ cols[0], cols[1], 'cnt_by_user_hour' ]"
   ]
  },
  {
   "cell_type": "code",
   "execution_count": 14,
   "metadata": {},
   "outputs": [],
   "source": [
    "# user visit counts next hour\n",
    "hour_user_cnt.columns = [ 'user_id', 'hour_next','cnt_by_user_hour_next']\n",
    "cols = ['user_id', 'hour_next']\n",
    "\n",
    "train_set = pd.merge(train_set, hour_user_cnt, how='left', on=cols)\n",
    "val_set = pd.merge(val_set, hour_user_cnt, how='left', on=cols)\n",
    "test_set = pd.merge(test_set, hour_user_cnt, how='left', on=cols)"
   ]
  },
  {
   "cell_type": "code",
   "execution_count": 15,
   "metadata": {},
   "outputs": [
    {
     "data": {
      "text/html": [
       "<div>\n",
       "<style scoped>\n",
       "    .dataframe tbody tr th:only-of-type {\n",
       "        vertical-align: middle;\n",
       "    }\n",
       "\n",
       "    .dataframe tbody tr th {\n",
       "        vertical-align: top;\n",
       "    }\n",
       "\n",
       "    .dataframe thead th {\n",
       "        text-align: right;\n",
       "    }\n",
       "</style>\n",
       "<table border=\"1\" class=\"dataframe\">\n",
       "  <thead>\n",
       "    <tr style=\"text-align: right;\">\n",
       "      <th></th>\n",
       "      <th>index</th>\n",
       "      <th>id</th>\n",
       "      <th>click</th>\n",
       "      <th>hour</th>\n",
       "      <th>C1</th>\n",
       "      <th>banner_pos</th>\n",
       "      <th>site_id</th>\n",
       "      <th>site_domain</th>\n",
       "      <th>site_category</th>\n",
       "      <th>app_id</th>\n",
       "      <th>...</th>\n",
       "      <th>click_gby_site_category</th>\n",
       "      <th>click_gby_app_category</th>\n",
       "      <th>click_gby_C21</th>\n",
       "      <th>c_combined</th>\n",
       "      <th>app_id_site_id</th>\n",
       "      <th>app_domain_site_domain</th>\n",
       "      <th>app_id_device_model</th>\n",
       "      <th>site_id_device_model</th>\n",
       "      <th>site_id_site_domain</th>\n",
       "      <th>cnt_by_user_hour_next</th>\n",
       "    </tr>\n",
       "  </thead>\n",
       "  <tbody>\n",
       "    <tr>\n",
       "      <th>0</th>\n",
       "      <td>0</td>\n",
       "      <td>2096162817</td>\n",
       "      <td>0</td>\n",
       "      <td>14102100</td>\n",
       "      <td>1005</td>\n",
       "      <td>0</td>\n",
       "      <td>1fbe01fe</td>\n",
       "      <td>f3845767</td>\n",
       "      <td>28905ebd</td>\n",
       "      <td>ecad2386</td>\n",
       "      <td>...</td>\n",
       "      <td>0.211465</td>\n",
       "      <td>0.200849</td>\n",
       "      <td>0.190324</td>\n",
       "      <td>84452</td>\n",
       "      <td>ecad23861fbe01fe</td>\n",
       "      <td>7801e8d9f3845767</td>\n",
       "      <td>ecad238644956a24</td>\n",
       "      <td>1fbe01fe44956a24</td>\n",
       "      <td>1fbe01fef3845767</td>\n",
       "      <td>4.0</td>\n",
       "    </tr>\n",
       "    <tr>\n",
       "      <th>1</th>\n",
       "      <td>1</td>\n",
       "      <td>871065379</td>\n",
       "      <td>0</td>\n",
       "      <td>14102100</td>\n",
       "      <td>1005</td>\n",
       "      <td>0</td>\n",
       "      <td>1fbe01fe</td>\n",
       "      <td>f3845767</td>\n",
       "      <td>28905ebd</td>\n",
       "      <td>ecad2386</td>\n",
       "      <td>...</td>\n",
       "      <td>0.211465</td>\n",
       "      <td>0.200849</td>\n",
       "      <td>0.190324</td>\n",
       "      <td>53463</td>\n",
       "      <td>ecad23861fbe01fe</td>\n",
       "      <td>7801e8d9f3845767</td>\n",
       "      <td>ecad2386711ee120</td>\n",
       "      <td>1fbe01fe711ee120</td>\n",
       "      <td>1fbe01fef3845767</td>\n",
       "      <td>NaN</td>\n",
       "    </tr>\n",
       "    <tr>\n",
       "      <th>2</th>\n",
       "      <td>2</td>\n",
       "      <td>1015674494</td>\n",
       "      <td>0</td>\n",
       "      <td>14102100</td>\n",
       "      <td>1005</td>\n",
       "      <td>0</td>\n",
       "      <td>1fbe01fe</td>\n",
       "      <td>f3845767</td>\n",
       "      <td>28905ebd</td>\n",
       "      <td>ecad2386</td>\n",
       "      <td>...</td>\n",
       "      <td>0.211465</td>\n",
       "      <td>0.200849</td>\n",
       "      <td>0.190324</td>\n",
       "      <td>53463</td>\n",
       "      <td>ecad23861fbe01fe</td>\n",
       "      <td>7801e8d9f3845767</td>\n",
       "      <td>ecad23868a4875bd</td>\n",
       "      <td>1fbe01fe8a4875bd</td>\n",
       "      <td>1fbe01fef3845767</td>\n",
       "      <td>NaN</td>\n",
       "    </tr>\n",
       "    <tr>\n",
       "      <th>3</th>\n",
       "      <td>3</td>\n",
       "      <td>3573304040</td>\n",
       "      <td>0</td>\n",
       "      <td>14102100</td>\n",
       "      <td>1005</td>\n",
       "      <td>0</td>\n",
       "      <td>1fbe01fe</td>\n",
       "      <td>f3845767</td>\n",
       "      <td>28905ebd</td>\n",
       "      <td>ecad2386</td>\n",
       "      <td>...</td>\n",
       "      <td>0.211465</td>\n",
       "      <td>0.200849</td>\n",
       "      <td>0.190324</td>\n",
       "      <td>53465</td>\n",
       "      <td>ecad23861fbe01fe</td>\n",
       "      <td>7801e8d9f3845767</td>\n",
       "      <td>ecad23866332421a</td>\n",
       "      <td>1fbe01fe6332421a</td>\n",
       "      <td>1fbe01fef3845767</td>\n",
       "      <td>NaN</td>\n",
       "    </tr>\n",
       "    <tr>\n",
       "      <th>4</th>\n",
       "      <td>4</td>\n",
       "      <td>2926390960</td>\n",
       "      <td>0</td>\n",
       "      <td>14102100</td>\n",
       "      <td>1005</td>\n",
       "      <td>1</td>\n",
       "      <td>fe8cc448</td>\n",
       "      <td>9166c161</td>\n",
       "      <td>0569f928</td>\n",
       "      <td>ecad2386</td>\n",
       "      <td>...</td>\n",
       "      <td>0.052671</td>\n",
       "      <td>0.200849</td>\n",
       "      <td>0.115366</td>\n",
       "      <td>88256</td>\n",
       "      <td>ecad2386fe8cc448</td>\n",
       "      <td>7801e8d99166c161</td>\n",
       "      <td>ecad2386779d90c2</td>\n",
       "      <td>fe8cc448779d90c2</td>\n",
       "      <td>fe8cc4489166c161</td>\n",
       "      <td>16.0</td>\n",
       "    </tr>\n",
       "  </tbody>\n",
       "</table>\n",
       "<p>5 rows × 50 columns</p>\n",
       "</div>"
      ],
      "text/plain": [
       "   index          id  click      hour    C1  banner_pos   site_id site_domain  \\\n",
       "0      0  2096162817      0  14102100  1005           0  1fbe01fe    f3845767   \n",
       "1      1   871065379      0  14102100  1005           0  1fbe01fe    f3845767   \n",
       "2      2  1015674494      0  14102100  1005           0  1fbe01fe    f3845767   \n",
       "3      3  3573304040      0  14102100  1005           0  1fbe01fe    f3845767   \n",
       "4      4  2926390960      0  14102100  1005           1  fe8cc448    9166c161   \n",
       "\n",
       "  site_category    app_id          ...           click_gby_site_category  \\\n",
       "0      28905ebd  ecad2386          ...                          0.211465   \n",
       "1      28905ebd  ecad2386          ...                          0.211465   \n",
       "2      28905ebd  ecad2386          ...                          0.211465   \n",
       "3      28905ebd  ecad2386          ...                          0.211465   \n",
       "4      0569f928  ecad2386          ...                          0.052671   \n",
       "\n",
       "  click_gby_app_category click_gby_C21 c_combined    app_id_site_id  \\\n",
       "0               0.200849      0.190324      84452  ecad23861fbe01fe   \n",
       "1               0.200849      0.190324      53463  ecad23861fbe01fe   \n",
       "2               0.200849      0.190324      53463  ecad23861fbe01fe   \n",
       "3               0.200849      0.190324      53465  ecad23861fbe01fe   \n",
       "4               0.200849      0.115366      88256  ecad2386fe8cc448   \n",
       "\n",
       "   app_domain_site_domain  app_id_device_model  site_id_device_model  \\\n",
       "0        7801e8d9f3845767     ecad238644956a24      1fbe01fe44956a24   \n",
       "1        7801e8d9f3845767     ecad2386711ee120      1fbe01fe711ee120   \n",
       "2        7801e8d9f3845767     ecad23868a4875bd      1fbe01fe8a4875bd   \n",
       "3        7801e8d9f3845767     ecad23866332421a      1fbe01fe6332421a   \n",
       "4        7801e8d99166c161     ecad2386779d90c2      fe8cc448779d90c2   \n",
       "\n",
       "   site_id_site_domain  cnt_by_user_hour_next  \n",
       "0     1fbe01fef3845767                    4.0  \n",
       "1     1fbe01fef3845767                    NaN  \n",
       "2     1fbe01fef3845767                    NaN  \n",
       "3     1fbe01fef3845767                    NaN  \n",
       "4     fe8cc4489166c161                   16.0  \n",
       "\n",
       "[5 rows x 50 columns]"
      ]
     },
     "execution_count": 15,
     "metadata": {},
     "output_type": "execute_result"
    }
   ],
   "source": [
    "train_set.head()"
   ]
  },
  {
   "cell_type": "code",
   "execution_count": 16,
   "metadata": {},
   "outputs": [],
   "source": [
    "# user visit counts previous hour\n",
    "hour_user_cnt.columns = [ 'user_id', 'hour_prev','cnt_by_user_hour_prev']\n",
    "cols = ['user_id', 'hour_prev']\n",
    "\n",
    "train_set = pd.merge(train_set, hour_user_cnt, how='left', on=cols)\n",
    "val_set = pd.merge(val_set, hour_user_cnt, how='left', on=cols)\n",
    "test_set = pd.merge(test_set, hour_user_cnt, how='left', on=cols)"
   ]
  },
  {
   "cell_type": "code",
   "execution_count": 17,
   "metadata": {},
   "outputs": [],
   "source": [
    "# fill missing values with zero for the count\n",
    "for col in ['cnt_by_user_hour_next', 'cnt_by_user_hour_prev']:\n",
    "    train_set[col].fillna(0, inplace=True)\n",
    "    val_set[col].fillna(0, inplace=True)\n",
    "    test_set[col].fillna(0, inplace=True)"
   ]
  },
  {
   "cell_type": "code",
   "execution_count": 25,
   "metadata": {},
   "outputs": [],
   "source": [
    "c_cols = [\"C1\"] + [\"C\"+str(i) for i in range(14,22)]\n",
    "cat_cols = ['banner_pos', 'device_type', 'device_conn_type']+ c_cols + \\\n",
    "           ['site_id','site_domain','site_category',\n",
    "            'app_id','app_domain','app_category',\n",
    "            'device_id','device_ip','device_model','user_id']\n",
    "\n",
    "for df in [train_set, val_set, test_set]: \n",
    "    convert_cat(df, cat_cols, 'category')"
   ]
  },
  {
   "cell_type": "code",
   "execution_count": 27,
   "metadata": {},
   "outputs": [],
   "source": [
    "try: \n",
    "    train_set = train_set.drop(['hour'], axis=1)\n",
    "    val_set = val_set.drop(['hour'], axis=1)\n",
    "except: print(\"No index column\")"
   ]
  },
  {
   "cell_type": "code",
   "execution_count": 31,
   "metadata": {},
   "outputs": [],
   "source": [
    "save_feather(test_df=True)"
   ]
  },
  {
   "cell_type": "markdown",
   "metadata": {},
   "source": [
    "### Final Pre-processing"
   ]
  },
  {
   "cell_type": "markdown",
   "metadata": {},
   "source": [
    "The final step of pre-processing data is to convert the dataset into two dataframes of predictors and target variable, in this case will be variable `click`."
   ]
  },
  {
   "cell_type": "code",
   "execution_count": 7,
   "metadata": {},
   "outputs": [],
   "source": [
    "train_set, val_set, test_set = load_feather(test_df=True)"
   ]
  },
  {
   "cell_type": "code",
   "execution_count": 8,
   "metadata": {},
   "outputs": [],
   "source": [
    "features = [c for c in train_set.columns if c != 'click']\n",
    "X_train, y_train = train_set[features], train_set['click'].values\n",
    "X_val, y_val = val_set[features], val_set['click'].values\n",
    "X_test = test_set"
   ]
  },
  {
   "cell_type": "markdown",
   "metadata": {},
   "source": [
    "### Label Encoding"
   ]
  },
  {
   "cell_type": "markdown",
   "metadata": {},
   "source": [
    "After creating all necessary features, we are going to use label encoding to encode the categorical variables. Because we are using random forest, label encoding is one of the appropriate methods."
   ]
  },
  {
   "cell_type": "code",
   "execution_count": 12,
   "metadata": {},
   "outputs": [],
   "source": [
    "encode_cols = ['app_id_site_id', 'app_domain_site_domain', 'app_id_device_model',\n",
    "               'site_id_device_model', 'site_id_site_domain',\n",
    "               'site_category', 'app_category','user_id'] + \\\n",
    "             ['site_id', 'site_domain', 'app_id', 'app_domain',\n",
    "             'device_id', 'device_ip', 'device_model']"
   ]
  },
  {
   "cell_type": "code",
   "execution_count": 13,
   "metadata": {},
   "outputs": [
    {
     "name": "stdout",
     "output_type": "stream",
     "text": [
      "processing  app_id_site_id\n",
      "processing  app_domain_site_domain\n",
      "processing  app_id_device_model\n",
      "processing  site_id_device_model\n",
      "processing  site_id_site_domain\n",
      "processing  site_category\n",
      "processing  app_category\n",
      "processing  user_id\n",
      "processing  site_id\n",
      "processing  site_domain\n",
      "processing  app_id\n",
      "processing  app_domain\n",
      "processing  device_id\n",
      "processing  device_ip\n",
      "processing  device_model\n"
     ]
    }
   ],
   "source": [
    "for col in encode_cols: \n",
    "    print(\"processing \", col)\n",
    "    le = LabelEncoder()\n",
    "    all_label = np.hstack([X_train[col].values, X_val[col].values, X_test[col].values])\n",
    "    all_label = np.unique(all_label)\n",
    "    le.fit(list(all_label))\n",
    "    X_train[col] = le.transform(X_train[col])\n",
    "    X_val[col] = le.transform(X_val[col])\n",
    "    X_test[col] = le.transform(X_test[col])"
   ]
  },
  {
   "cell_type": "code",
   "execution_count": 14,
   "metadata": {},
   "outputs": [
    {
     "name": "stdout",
     "output_type": "stream",
     "text": [
      "No float64 columns\n",
      "No int64 columns\n",
      "No float64 columns\n",
      "No int64 columns\n",
      "No float64 columns\n",
      "No int64 columns\n"
     ]
    }
   ],
   "source": [
    "for df in [X_train, X_val, X_test]: \n",
    "    convert_cat(df, encode_cols, 'category')\n",
    "    convert_numtype(df)"
   ]
  },
  {
   "cell_type": "markdown",
   "metadata": {},
   "source": [
    "### Random Forest Model"
   ]
  },
  {
   "cell_type": "code",
   "execution_count": 9,
   "metadata": {},
   "outputs": [
    {
     "data": {
      "text/plain": [
       "((32377421, 47), (32377421,), (8051546, 47), (8051546,))"
      ]
     },
     "execution_count": 9,
     "metadata": {},
     "output_type": "execute_result"
    }
   ],
   "source": [
    "X_train.shape, y_train.shape, X_val.shape, y_val.shape"
   ]
  },
  {
   "cell_type": "code",
   "execution_count": 10,
   "metadata": {},
   "outputs": [],
   "source": [
    "from sklearn.externals import joblib\n",
    "from sklearn.externals.joblib import parallel_backend"
   ]
  },
  {
   "cell_type": "code",
   "execution_count": 11,
   "metadata": {},
   "outputs": [],
   "source": [
    "# Source code: fast.ai\n",
    "def set_rf_samples(n):\n",
    "    forest._generate_sample_indices = (lambda rs, n_samples:\n",
    "        forest.check_random_state(rs).randint(0, n_samples, n))\n",
    "\n",
    "def reset_rf_samples():\n",
    "    forest._generate_sample_indices = (lambda rs, n_samples:\n",
    "        forest.check_random_state(rs).randint(0, n_samples, n_samples))"
   ]
  },
  {
   "cell_type": "code",
   "execution_count": 12,
   "metadata": {},
   "outputs": [],
   "source": [
    "reset_rf_samples()\n",
    "set_rf_samples(5000000)"
   ]
  },
  {
   "cell_type": "code",
   "execution_count": 13,
   "metadata": {},
   "outputs": [],
   "source": [
    "rf = RandomForestClassifier(n_estimators=25,\n",
    "                            min_samples_leaf=10,\n",
    "                            min_samples_split=100,\n",
    "                            max_features='sqrt',\n",
    "                            random_state=42,\n",
    "                            criterion='entropy',\n",
    "                            n_jobs=-1, bootstrap=False)"
   ]
  },
  {
   "cell_type": "code",
   "execution_count": 14,
   "metadata": {},
   "outputs": [],
   "source": [
    "%%time\n",
    "with parallel_backend('threading'):\n",
    "     rf.fit(X_train, y_train)"
   ]
  },
  {
   "cell_type": "code",
   "execution_count": 15,
   "metadata": {},
   "outputs": [],
   "source": [
    "joblib.dump(rf, 'rf25_3.pkl') "
   ]
  },
  {
   "cell_type": "code",
   "execution_count": 16,
   "metadata": {},
   "outputs": [
    {
     "name": "stdout",
     "output_type": "stream",
     "text": [
      "Training Log Loss:  0.3342649568790866\n",
      "Validation Log Loss:  0.3969338303677734\n"
     ]
    }
   ],
   "source": [
    "y_pred_proba_trn = rf.predict_proba(X_train)\n",
    "y_pred_proba_val = rf.predict_proba(X_val)\n",
    "print(\"Training Log Loss: \", log_loss(y_train, y_pred_proba_trn))\n",
    "print(\"Validation Log Loss: \", log_loss(y_val, y_pred_proba_val))"
   ]
  },
  {
   "cell_type": "markdown",
   "metadata": {},
   "source": [
    "### Parameter Tuning for Number of Trees"
   ]
  },
  {
   "cell_type": "markdown",
   "metadata": {},
   "source": [
    "The more trees there are, the better the random forest model will be. However at one point, the additional benefit of adding more trees will diminish towards zero. We can see from below that the validation loss between 35 and 40 trees are different very slightly."
   ]
  },
  {
   "cell_type": "code",
   "execution_count": 13,
   "metadata": {},
   "outputs": [],
   "source": [
    "rf = joblib.load('rf25_3.pkl') "
   ]
  },
  {
   "cell_type": "code",
   "execution_count": 16,
   "metadata": {
    "scrolled": false
   },
   "outputs": [
    {
     "name": "stdout",
     "output_type": "stream",
     "text": [
      "Using 30 trees:\n",
      "Evaluating...\n",
      "Training Log Loss:  0.3407295495012308\n",
      "Validation Log Loss:  0.3962448002491841\n",
      "===================================\n",
      "\n",
      "\n",
      "Using 35 trees:\n",
      "Evaluating...\n",
      "Training Log Loss:  0.34067354203453915\n",
      "Validation Log Loss:  0.39601963728931794\n",
      "===================================\n",
      "\n",
      "\n",
      "Using 40 trees:\n",
      "Evaluating...\n",
      "Training Log Loss:  0.34062002664831154\n",
      "Validation Log Loss:  0.39605064695939035\n",
      "===================================\n",
      "\n",
      "\n"
     ]
    }
   ],
   "source": [
    "logloss_train = []\n",
    "logloss_val = []\n",
    "\n",
    "n_estimators_range = [30, 35, 40]\n",
    "for n in n_estimators_range:\n",
    "    print(\"Using %s trees:\" % str(n))\n",
    "    params['n_estimators']=n\n",
    "    m = RandomForestClassifier(**params, random_state=42, criterion='entropy',\n",
    "                            n_jobs=-1, bootstrap=False)\n",
    "    with parallel_backend('threading'):\n",
    "        m.fit(X_train, y_train)\n",
    "    \n",
    "    print(\"Evaluating...\")\n",
    "    loss_trn = log_loss(y_train, m.predict_proba(X_train))\n",
    "    loss_val = log_loss(y_val, m.predict_proba(X_val))\n",
    "    print(\"Training Log Loss: \", loss_trn)\n",
    "    print(\"Validation Log Loss: \", loss_val)\n",
    "    print(\"===================================\")\n",
    "    print(\"\\n\")\n",
    "    \n",
    "    logloss_train.append(loss_trn)\n",
    "    logloss_val.append(loss_val)"
   ]
  },
  {
   "cell_type": "markdown",
   "metadata": {},
   "source": [
    "### Feature Selection"
   ]
  },
  {
   "cell_type": "markdown",
   "metadata": {},
   "source": [
    "For the final model, the model with 35 trees was selected as the validation loss between 35 trees and 40 trees do not vary significantly and we are usually prone towards more simple model. Below is also a plot for the features' importance, we can see that quite a few of the features created are one of the most important ones."
   ]
  },
  {
   "cell_type": "code",
   "execution_count": 18,
   "metadata": {},
   "outputs": [],
   "source": [
    "# pick the best model amongst the above\n",
    "rf = RandomForestClassifier(n_estimators=35,\n",
    "                            min_samples_leaf=10,\n",
    "                            min_samples_split=100,\n",
    "                            max_features='sqrt',\n",
    "                            random_state=42,\n",
    "                            criterion='entropy',\n",
    "                            n_jobs=-1, bootstrap=False)"
   ]
  },
  {
   "cell_type": "code",
   "execution_count": 19,
   "metadata": {},
   "outputs": [
    {
     "name": "stdout",
     "output_type": "stream",
     "text": [
      "CPU times: user 7h 15min 32s, sys: 1min 44s, total: 7h 17min 17s\n",
      "Wall time: 36min 39s\n"
     ]
    }
   ],
   "source": [
    "%%time\n",
    "with parallel_backend('threading'):\n",
    "     rf.fit(X_train, y_train)"
   ]
  },
  {
   "cell_type": "code",
   "execution_count": 24,
   "metadata": {},
   "outputs": [
    {
     "data": {
      "text/html": [
       "<div>\n",
       "<style scoped>\n",
       "    .dataframe tbody tr th:only-of-type {\n",
       "        vertical-align: middle;\n",
       "    }\n",
       "\n",
       "    .dataframe tbody tr th {\n",
       "        vertical-align: top;\n",
       "    }\n",
       "\n",
       "    .dataframe thead th {\n",
       "        text-align: right;\n",
       "    }\n",
       "</style>\n",
       "<table border=\"1\" class=\"dataframe\">\n",
       "  <thead>\n",
       "    <tr style=\"text-align: right;\">\n",
       "      <th></th>\n",
       "      <th>feature</th>\n",
       "      <th>imp_score</th>\n",
       "    </tr>\n",
       "  </thead>\n",
       "  <tbody>\n",
       "    <tr>\n",
       "      <th>38</th>\n",
       "      <td>click_gby_C21</td>\n",
       "      <td>0.083254</td>\n",
       "    </tr>\n",
       "    <tr>\n",
       "      <th>43</th>\n",
       "      <td>site_id_device_model</td>\n",
       "      <td>0.059364</td>\n",
       "    </tr>\n",
       "    <tr>\n",
       "      <th>29</th>\n",
       "      <td>user_id</td>\n",
       "      <td>0.055680</td>\n",
       "    </tr>\n",
       "    <tr>\n",
       "      <th>9</th>\n",
       "      <td>device_ip</td>\n",
       "      <td>0.052383</td>\n",
       "    </tr>\n",
       "    <tr>\n",
       "      <th>42</th>\n",
       "      <td>app_id_device_model</td>\n",
       "      <td>0.050149</td>\n",
       "    </tr>\n",
       "    <tr>\n",
       "      <th>40</th>\n",
       "      <td>app_id_site_id</td>\n",
       "      <td>0.041169</td>\n",
       "    </tr>\n",
       "    <tr>\n",
       "      <th>10</th>\n",
       "      <td>device_model</td>\n",
       "      <td>0.033446</td>\n",
       "    </tr>\n",
       "    <tr>\n",
       "      <th>15</th>\n",
       "      <td>C16</td>\n",
       "      <td>0.033400</td>\n",
       "    </tr>\n",
       "    <tr>\n",
       "      <th>13</th>\n",
       "      <td>C14</td>\n",
       "      <td>0.032477</td>\n",
       "    </tr>\n",
       "    <tr>\n",
       "      <th>41</th>\n",
       "      <td>app_domain_site_domain</td>\n",
       "      <td>0.032042</td>\n",
       "    </tr>\n",
       "  </tbody>\n",
       "</table>\n",
       "</div>"
      ],
      "text/plain": [
       "                   feature  imp_score\n",
       "38           click_gby_C21   0.083254\n",
       "43    site_id_device_model   0.059364\n",
       "29                 user_id   0.055680\n",
       "9                device_ip   0.052383\n",
       "42     app_id_device_model   0.050149\n",
       "40          app_id_site_id   0.041169\n",
       "10            device_model   0.033446\n",
       "15                     C16   0.033400\n",
       "13                     C14   0.032477\n",
       "41  app_domain_site_domain   0.032042"
      ]
     },
     "execution_count": 24,
     "metadata": {},
     "output_type": "execute_result"
    }
   ],
   "source": [
    "fi = pd.DataFrame({'feature': X_train.columns,\n",
    "                   'imp_score': rf.feature_importances_}\n",
    "                    ).sort_values('imp_score', ascending=False)\n",
    "fi.head(10)"
   ]
  },
  {
   "cell_type": "code",
   "execution_count": 30,
   "metadata": {},
   "outputs": [
    {
     "data": {
      "text/plain": [
       "<matplotlib.axes._subplots.AxesSubplot at 0x7f83c79fe080>"
      ]
     },
     "execution_count": 30,
     "metadata": {},
     "output_type": "execute_result"
    },
    {
     "data": {
      "image/png": "[encoded data removed]",
      "text/plain": [
       "<matplotlib.figure.Figure at 0x7f83c7a2d080>"
      ]
     },
     "metadata": {},
     "output_type": "display_data"
    }
   ],
   "source": [
    "fi.head(30).plot('feature', 'imp_score', 'barh', figsize=(15,8), color='#194196')"
   ]
  },
  {
   "cell_type": "markdown",
   "metadata": {},
   "source": [
    "A more simpler model with only the top 30 features was also fit but the validation loss did not perform better than the full model."
   ]
  },
  {
   "cell_type": "code",
   "execution_count": 25,
   "metadata": {},
   "outputs": [],
   "source": [
    "selected = fi.iloc[:30,0].values"
   ]
  },
  {
   "cell_type": "code",
   "execution_count": 26,
   "metadata": {},
   "outputs": [],
   "source": [
    "X_filtered_trn = X_train[selected].copy()\n",
    "X_filtered_val = X_val[selected].copy()"
   ]
  },
  {
   "cell_type": "code",
   "execution_count": 27,
   "metadata": {},
   "outputs": [],
   "source": [
    "reset_rf_samples()\n",
    "set_rf_samples(5000000)"
   ]
  },
  {
   "cell_type": "code",
   "execution_count": 28,
   "metadata": {},
   "outputs": [
    {
     "name": "stdout",
     "output_type": "stream",
     "text": [
      "CPU times: user 8h 27min 57s, sys: 1min 34s, total: 8h 29min 32s\n",
      "Wall time: 41min 12s\n"
     ]
    }
   ],
   "source": [
    "%%time\n",
    "with parallel_backend('threading'):\n",
    "    rf.fit(X_filtered_trn, y_train)"
   ]
  },
  {
   "cell_type": "code",
   "execution_count": 29,
   "metadata": {},
   "outputs": [
    {
     "name": "stdout",
     "output_type": "stream",
     "text": [
      "Training Log Loss:  0.3278944969472111\n",
      "Validation Log Loss:  0.3991392047212318\n"
     ]
    }
   ],
   "source": [
    "y_pred_proba_trn = rf.predict_proba(X_filtered_trn)\n",
    "y_pred_proba_val = rf.predict_proba(X_filtered_val)\n",
    "print(\"Training Log Loss: \", log_loss(y_train, y_pred_proba_trn))\n",
    "print(\"Validation Log Loss: \", log_loss(y_val, y_pred_proba_val))"
   ]
  }
 ],
 "metadata": {
  "kernelspec": {
   "display_name": "Python 3",
   "language": "python",
   "name": "python3"
  },
  "language_info": {
   "codemirror_mode": {
    "name": "ipython",
    "version": 3
   },
   "file_extension": ".py",
   "mimetype": "text/x-python",
   "name": "python",
   "nbconvert_exporter": "python",
   "pygments_lexer": "ipython3",
   "version": "3.6.3"
  }
 },
 "nbformat": 4,
 "nbformat_minor": 2
}
