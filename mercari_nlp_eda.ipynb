{
 "cells": [
  {
   "cell_type": "raw",
   "metadata": {
    "_cell_guid": "049dad6e-bee5-4822-9e0e-ae11b0e7f26a",
    "_uuid": "d9c4e75689c538b41aad45753aba45d601011830"
   },
   "source": [
    "## **Introduction**\n",
    "\n",
    "This is an intial Explanatory Data Analysis for the [Mercari Price Suggestion Challenge](https://www.kaggle.com/c/mercari-price-suggestion-challenge#description) with matplotlib and Plot.ly - a visualization tool that creates beautiful interactive plots and dashboards.  The competition is hosted by Mercari, the biggest Japanese community-powered shopping app with the main objective to predict an accurate price that Mercari should suggest to its sellers, given the item's information. "
   ]
  },
  {
   "cell_type": "code",
   "execution_count": 1,
   "metadata": {
    "collapsed": true
   },
   "outputs": [],
   "source": [
    "%load_ext autoreload\n",
    "%autoreload 2"
   ]
  },
  {
   "cell_type": "code",
   "execution_count": 2,
   "metadata": {
    "_cell_guid": "4f211658-d449-4052-87c4-0ab5d10545e8",
    "_kg_hide-input": true,
    "_kg_hide-output": true,
    "_uuid": "af187b17315c15081fcdcdc99942db794844d90d"
   },
   "outputs": [
    {
     "data": {
      "text/html": [
       "<script>requirejs.config({paths: { 'plotly': ['https://cdn.plot.ly/plotly-latest.min']},});if(!window.Plotly) {{require(['plotly'],function(plotly) {window.Plotly=plotly;});}}</script>"
      ],
      "text/vnd.plotly.v1+html": [
       "<script>requirejs.config({paths: { 'plotly': ['https://cdn.plot.ly/plotly-latest.min']},});if(!window.Plotly) {{require(['plotly'],function(plotly) {window.Plotly=plotly;});}}</script>"
      ]
     },
     "metadata": {},
     "output_type": "display_data"
    }
   ],
   "source": [
    "import nltk\n",
    "import string\n",
    "import re\n",
    "import numpy as np\n",
    "import pandas as pd\n",
    "import pickle\n",
    "import lda\n",
    "\n",
    "import matplotlib.pyplot as plt\n",
    "import seaborn as sns\n",
    "sns.set(style=\"white\")\n",
    "\n",
    "from nltk.stem.porter import *\n",
    "from nltk.tokenize import word_tokenize, sent_tokenize\n",
    "from nltk.corpus import stopwords\n",
    "from sklearn.feature_extraction import stop_words\n",
    "\n",
    "from collections import Counter\n",
    "from sklearn.feature_extraction.text import TfidfVectorizer\n",
    "from sklearn.feature_extraction.text import CountVectorizer\n",
    "\n",
    "import plotly.offline as py\n",
    "py.init_notebook_mode(connected=True)\n",
    "import plotly.graph_objs as go\n",
    "import plotly.tools as tls\n",
    "%matplotlib inline\n",
    "\n",
    "import bokeh.plotting as bp\n",
    "from bokeh.models import HoverTool, BoxSelectTool\n",
    "from bokeh.plotting import figure, show, output_notebook\n",
    "from bokeh.transform import factor_cmap\n",
    "\n",
    "import warnings\n",
    "warnings.filterwarnings('ignore')\n",
    "import logging\n",
    "logging.getLogger(\"lda\").setLevel(logging.WARNING)"
   ]
  },
  {
   "cell_type": "markdown",
   "metadata": {
    "_cell_guid": "5fa6bae8-c5fc-4c1a-8339-acfa14aac199",
    "_kg_hide-input": true,
    "_kg_hide-output": true,
    "_uuid": "d82faf4720f0574d2be682880d2f662b96918ffa"
   },
   "source": [
    "## **First Look at Data**\n",
    "On the first look at the data, besides the unique identifier (item_id), there are 7 variables in this model. This notebook will sequentially go through each of them with a brief statistical summary. \n",
    "\n",
    "1. **Numerical/Continuous Features**:  \n",
    "    - price: the item's final bidding price. This will be our reponse / independent variable that we need to predict in the test set\n",
    "    - shipping cost    \n",
    "    \n",
    "2. **Categorical Features**: \n",
    "    - shipping cost: A binary indicator, 1 if shipping fee is paid by seller and 0 if it's paid by buyer\n",
    "    - item_condition_id: The condition of the items provided by the seller\n",
    "    - name: The item's name\n",
    "    - brand_name: The item's producer brand name\n",
    "    - category_name: The item's single or multiple categories that are separated by \"\\\" \n",
    "    - item_description: A short description on the item that may include removed words, flagged by [rm]"
   ]
  },
  {
   "cell_type": "code",
   "execution_count": 5,
   "metadata": {
    "_cell_guid": "fc7f8ff2-a9f2-488d-b9b8-0c47c1d64a9d",
    "_kg_hide-input": true,
    "_uuid": "122a209567af15b4422a75b50bfb8bb4c7b5fdfe",
    "collapsed": true
   },
   "outputs": [],
   "source": [
    "PATH = \"./data/\""
   ]
  },
  {
   "cell_type": "code",
   "execution_count": 64,
   "metadata": {
    "_cell_guid": "6f1e2926-af11-4801-9df9-943162e72478",
    "_uuid": "ca7edb8850b4b2d5dfbe044e08cc709886348c2e",
    "collapsed": true
   },
   "outputs": [],
   "source": [
    "train = pd.read_csv(f'{PATH}train.tsv', sep='\\t')\n",
    "test = pd.read_csv(f'{PATH}test.tsv', sep='\\t')"
   ]
  },
  {
   "cell_type": "code",
   "execution_count": null,
   "metadata": {
    "_cell_guid": "5fe57507-8f62-4e90-afb4-f78d5ee174a0",
    "_uuid": "1a6310c7717bb6993ea79e4057f6d5a75e4c3c2a",
    "collapsed": true
   },
   "outputs": [],
   "source": [
    "# size of training and dataset\n",
    "print(train.shape)\n",
    "print(test.shape)"
   ]
  },
  {
   "cell_type": "code",
   "execution_count": null,
   "metadata": {
    "_cell_guid": "f58f905d-8279-42fa-8877-862c1f23aff8",
    "_uuid": "b247cf361d89fc2431adc5150d0c4533691f71b2",
    "collapsed": true
   },
   "outputs": [],
   "source": [
    "# different data types in the dataset: categorical (strings) and numeric\n",
    "train.dtypes"
   ]
  },
  {
   "cell_type": "code",
   "execution_count": null,
   "metadata": {
    "_cell_guid": "8fd3b4d2-2bc9-47dc-8396-5980aad64a1f",
    "_uuid": "04c5b96c1de907bf9dc259a0a8d2e4df4f02375a",
    "collapsed": true
   },
   "outputs": [],
   "source": [
    "train.head()"
   ]
  },
  {
   "cell_type": "markdown",
   "metadata": {
    "_cell_guid": "74b924c4-fecc-4a5b-b112-87625297d3b9",
    "_uuid": "3dc222ed04ddb74c4cf4081192150dcd7de17d89"
   },
   "source": [
    "### **Price** - Target Variable"
   ]
  },
  {
   "cell_type": "markdown",
   "metadata": {
    "_cell_guid": "cb846bc6-01be-4f61-8c2b-49a6af0f8f29",
    "_uuid": "15c4c0eb2b7b138f52fba95cd11915ce4e15539f"
   },
   "source": [
    "The next standard check is with our response or target variables, which in this case is the `price` we are suggesting to the Mercari's marketplace sellers.  The median price of all the items in the training is about \\$267 but given the existence of some extreme values of over \\$100 and the maximum at \\$2,009, the distribution of the variables is heavily skewed to the left. So let's make log-transformation on the price (we added +1 to the value before the transformation to avoid zero and negative values)."
   ]
  },
  {
   "cell_type": "code",
   "execution_count": null,
   "metadata": {
    "_cell_guid": "621d00c1-6f22-42bc-8709-fd77399b6492",
    "_uuid": "b3d3c18e99c7e49e81f3e51221ba26483f6ead81",
    "collapsed": true
   },
   "outputs": [],
   "source": [
    "train.price.describe()"
   ]
  },
  {
   "cell_type": "code",
   "execution_count": null,
   "metadata": {
    "_cell_guid": "ba824e0f-b23a-4e70-b621-fc1d979e57d6",
    "_kg_hide-input": true,
    "_uuid": "314e556a16f6810ea01536c135d62e3e39d88431",
    "collapsed": true
   },
   "outputs": [],
   "source": [
    "plt.subplot(1, 2, 1)\n",
    "(train['price']).plot.hist(bins=50, figsize=(20,10), edgecolor='white',range=[0,250])\n",
    "plt.xlabel('price+', fontsize=17)\n",
    "plt.ylabel('frequency', fontsize=17)\n",
    "plt.tick_params(labelsize=15)\n",
    "plt.title('Price Distribution - Training Set', fontsize=17)\n",
    "\n",
    "plt.subplot(1, 2, 2)\n",
    "np.log(train['price']+1).plot.hist(bins=50, figsize=(20,10), edgecolor='white')\n",
    "plt.xlabel('log(price+1)', fontsize=17)\n",
    "plt.ylabel('frequency', fontsize=17)\n",
    "plt.tick_params(labelsize=15)\n",
    "plt.title('Log(Price) Distribution - Training Set', fontsize=17)\n",
    "plt.show()"
   ]
  },
  {
   "cell_type": "markdown",
   "metadata": {
    "_cell_guid": "91de0c69-7cb3-4503-aedf-9c396a1a8f19",
    "_uuid": "8ead68391b89acaa393f9f694c08addd4bd3a58a",
    "collapsed": true
   },
   "source": [
    "### **Shipping**\n",
    "\n",
    "The shipping cost burden is decently splitted between sellers and buyers with more than half of the items' shipping fees are paid by the sellers (55%). In addition, the average price paid by users who have to pay for shipping fees is lower than those that don't require additional shipping cost. This matches with our perception that the sellers need a lower price to compensate for the additional shipping."
   ]
  },
  {
   "cell_type": "code",
   "execution_count": null,
   "metadata": {
    "_cell_guid": "b3d38506-ebe3-4951-8fb0-9dd3de6c0851",
    "_kg_hide-input": true,
    "_uuid": "34df65c2eaa227091d1101a17ee43a99eae5e639",
    "collapsed": true
   },
   "outputs": [],
   "source": [
    "train.shipping.value_counts()/len(train)"
   ]
  },
  {
   "cell_type": "code",
   "execution_count": null,
   "metadata": {
    "_cell_guid": "956793f2-0e83-4de7-ac47-59a266e2a771",
    "_kg_hide-input": true,
    "_kg_hide-output": false,
    "_uuid": "938ea18ba993fd6f9296e3c1d1d541a728219622",
    "collapsed": true
   },
   "outputs": [],
   "source": [
    "prc_shipBySeller = train.loc[train.shipping==0, 'price']\n",
    "prc_shipByBuyer = train.loc[train.shipping==1, 'price']"
   ]
  },
  {
   "cell_type": "code",
   "execution_count": null,
   "metadata": {
    "_cell_guid": "b7c2c064-4561-4831-9cf7-02910a8cde00",
    "_kg_hide-input": true,
    "_uuid": "cc24211ac13b7d8bd88c1061e996826cfc3da597",
    "collapsed": true
   },
   "outputs": [],
   "source": [
    "fig, ax = plt.subplots(figsize=(20,10))\n",
    "ax.hist(np.log(prc_shipBySeller+1), color='#8CB4E1', alpha=1.0, bins=50,\n",
    "       label='Price when Seller pays Shipping')\n",
    "ax.hist(np.log(prc_shipByBuyer+1), color='#007D00', alpha=0.7, bins=50,\n",
    "       label='Price when Buyer pays Shipping')\n",
    "ax.set(title='Histogram Comparison', ylabel='% of Dataset in Bin')\n",
    "plt.xlabel('log(price+1)', fontsize=17)\n",
    "plt.ylabel('frequency', fontsize=17)\n",
    "plt.title('Price Distribution by Shipping Type', fontsize=17)\n",
    "plt.tick_params(labelsize=15)\n",
    "plt.show()"
   ]
  },
  {
   "cell_type": "markdown",
   "metadata": {
    "_cell_guid": "c19f85dd-6767-4329-88f2-75aae64623e5",
    "_uuid": "c275d349c49e2dd0fc1ec10bd416900875f083a2"
   },
   "source": [
    "### **Item Category**\n",
    "\n",
    "There are about **1,287** unique categories but among each of them, we will always see a main/general category firstly, followed by two more particular subcategories (e.g. Beauty/Makeup/Face or Lips). In adidition, there are about 6,327 items that do not have a category labels. Let's split the categories into three different columns. We will see later that this information is actually quite important from the seller's point of view and how we handle the missing information in the `brand_name` column will impact the model's prediction. "
   ]
  },
  {
   "cell_type": "code",
   "execution_count": null,
   "metadata": {
    "_cell_guid": "b73488c6-789e-4dda-a21c-cc661a715db7",
    "_kg_hide-input": true,
    "_uuid": "944114da84aa5c946b0d102f908c2d303350d401",
    "collapsed": true
   },
   "outputs": [],
   "source": [
    "print(\"There are %d unique values in the category column.\" % train['category_name'].nunique())"
   ]
  },
  {
   "cell_type": "code",
   "execution_count": null,
   "metadata": {
    "_cell_guid": "ac468824-7439-415e-b119-c24ff750e631",
    "_kg_hide-input": false,
    "_uuid": "07f9fdeb6dd4bd7e3a075a4cd5d779bbe2a64320",
    "collapsed": true
   },
   "outputs": [],
   "source": [
    "# TOP 5 RAW CATEGORIES\n",
    "train['category_name'].value_counts().head()"
   ]
  },
  {
   "cell_type": "code",
   "execution_count": null,
   "metadata": {
    "_cell_guid": "a17d5bbc-f2b9-48f4-bf1e-8031000c992d",
    "_kg_hide-input": true,
    "_uuid": "e79d9bae48ea3daf13d3e83ea863d1eb51658fa8",
    "collapsed": true
   },
   "outputs": [],
   "source": [
    "# missing categories\n",
    "print(\"There are %d items that do not have a label.\" % train['category_name'].isnull().sum())"
   ]
  },
  {
   "cell_type": "code",
   "execution_count": null,
   "metadata": {
    "_cell_guid": "ee8e9ba1-dd6b-493c-b97f-507eca5287fb",
    "_kg_hide-input": true,
    "_kg_hide-output": false,
    "_uuid": "f51ffaa9c0ffaa0cd04a5c2cfd7d76417971d530",
    "collapsed": true
   },
   "outputs": [],
   "source": [
    "# reference: https://www.kaggle.com/maheshdadhich/i-will-sell-everything-for-free-0-55\n",
    "def split_cat(text):\n",
    "    try: return text.split(\"/\")\n",
    "    except: return (\"No Label\", \"No Label\", \"No Label\")"
   ]
  },
  {
   "cell_type": "code",
   "execution_count": null,
   "metadata": {
    "_cell_guid": "74e722fb-4bf1-4540-b5e4-f9f7bba64dd4",
    "_uuid": "63f7d7f0f87b5599d3b970382432010a3968aee4",
    "collapsed": true
   },
   "outputs": [],
   "source": [
    "train['general_cat'], train['subcat_1'], train['subcat_2'] = \\\n",
    "zip(*train['category_name'].apply(lambda x: split_cat(x)))\n",
    "train.head()"
   ]
  },
  {
   "cell_type": "code",
   "execution_count": null,
   "metadata": {
    "_cell_guid": "e35d96ec-fa00-4f49-b5f0-e8df56f466ff",
    "_kg_hide-input": true,
    "_kg_hide-output": false,
    "_uuid": "5e5ba730355ce75bf2dce3defb1c4fe1f80ff9fb",
    "collapsed": true
   },
   "outputs": [],
   "source": [
    "# repeat the same step for the test set\n",
    "test['general_cat'], test['subcat_1'], test['subcat_2'] = \\\n",
    "zip(*test['category_name'].apply(lambda x: split_cat(x)))"
   ]
  },
  {
   "cell_type": "code",
   "execution_count": null,
   "metadata": {
    "_cell_guid": "64559f3b-b70b-45a6-ba10-975993c4926f",
    "_kg_hide-input": false,
    "_kg_hide-output": false,
    "_uuid": "d191e5c7ed101922aed6c3f9734bf34508f01912",
    "collapsed": true
   },
   "outputs": [],
   "source": [
    "print(\"There are %d unique first sub-categories and %d second sub-categories.\" % \\\n",
    "      (train['subcat_1'].nunique(), train['subcat_2'].nunique()))"
   ]
  },
  {
   "cell_type": "markdown",
   "metadata": {
    "_cell_guid": "d6e280f0-885e-43bb-bda7-8ed9fe0987ba",
    "_uuid": "a03eb0d50c3103a7a3b2fa315254dfc9b5b6a894"
   },
   "source": [
    "Overall, we have  **7 main categories** (114 in the first sub-categories and 871 second sub-categories): women's and beauty items as the two most popular categories (more than 50% of the observations), followed by kids and electronics. "
   ]
  },
  {
   "cell_type": "code",
   "execution_count": null,
   "metadata": {
    "collapsed": true
   },
   "outputs": [],
   "source": [
    "plt.figure(figsize=(20,10))\n",
    "ax = sns.countplot(x=\"general_cat\", data=train, \n",
    "                   order=train['general_cat'].value_counts().index)\n",
    "plt.title('Number of Items by General Category',fontsize=20)\n",
    "plt.xlabel('general category', fontsize=17)\n",
    "plt.ylabel('frequency', fontsize=17)\n",
    "plt.tick_params(labelsize=17)\n",
    "plt.xticks(rotation=90)\n",
    "n = len(train)\n",
    "for p in ax.patches:\n",
    "        x=p.get_bbox().get_points()[:,0]\n",
    "        y=p.get_bbox().get_points()[1,1]\n",
    "        ax.annotate('{:.1f}%'.format(100.*y/n), (x.mean(), y), \n",
    "                ha='center', va='bottom', fontsize=17)\n",
    "plt.show()"
   ]
  },
  {
   "cell_type": "code",
   "execution_count": null,
   "metadata": {
    "_cell_guid": "1977140a-f0ee-46af-8561-7fa5f3de43f2",
    "_kg_hide-input": false,
    "_kg_hide-output": false,
    "_uuid": "427123e746f47e763bb351e9abe83041985a05ca",
    "collapsed": true
   },
   "outputs": [],
   "source": [
    "# x = train['general_cat'].value_counts().index.values.astype('str')\n",
    "# y = train['general_cat'].value_counts().values\n",
    "# pct = [(\"%.2f\"%(v*100))+\"%\"for v in (y/len(train))]\n",
    "\n",
    "# trace1 = go.Bar(x=x, y=y, text=pct)\n",
    "# layout = dict(title= 'Number of Items by Main Category',\n",
    "#               yaxis = dict(title='Count'),\n",
    "#               xaxis = dict(title='Category'))\n",
    "# fig=dict(data=[trace1], layout=layout)\n",
    "# py.iplot(fig)"
   ]
  },
  {
   "cell_type": "code",
   "execution_count": null,
   "metadata": {
    "_cell_guid": "ee50ae89-4496-46d0-96f4-6f9f9d5407cc",
    "_kg_hide-input": false,
    "_kg_hide-output": false,
    "_uuid": "87c01e755ab62d552d584822460ae80e58843966",
    "collapsed": true
   },
   "outputs": [],
   "source": [
    "# x = train['subcat_1'].value_counts().index.values.astype('str')[:15]\n",
    "# y = train['subcat_2'].value_counts().values[:15]\n",
    "# pct = [(\"%.2f\"%(v*100))+\"%\"for v in (y/len(train))][:15]\n",
    "\n",
    "# trace1 = go.Bar(x=x, y=y, text=pct,\n",
    "#                 marker=dict(\n",
    "#                 color = y,colorscale='Portland',showscale=True,\n",
    "#                 reversescale = False\n",
    "#                 ))\n",
    "# layout = dict(title= 'Number of Items by SubCategory (Top 15)',\n",
    "#               yaxis = dict(title='Count'),\n",
    "#               xaxis = dict(title='SubCategory'))\n",
    "# fig=dict(data=[trace1], layout=layout)\n",
    "# py.iplot(fig)"
   ]
  },
  {
   "cell_type": "markdown",
   "metadata": {
    "_cell_guid": "59d504e8-a2cb-4c10-ae53-d5269000d937",
    "_uuid": "e66bf56801446d3c32bef84f7ef5820b331776c7"
   },
   "source": [
    "From the pricing (log of price) point of view, all the categories are pretty well distributed, with no category with an extraordinary pricing point "
   ]
  },
  {
   "cell_type": "code",
   "execution_count": null,
   "metadata": {
    "collapsed": true
   },
   "outputs": [],
   "source": [
    "plt.figure(figsize=(20,10))\n",
    "sns.boxplot(x=\"general_cat\", y=np.log(train.price+1), data=train, linewidth=2.5, \n",
    "           order=train['general_cat'].value_counts().index)\n",
    "plt.title('Prices by General Category',fontsize=20)\n",
    "plt.xlabel('general category', fontsize=17)\n",
    "plt.ylabel('log(price)', fontsize=17)\n",
    "plt.tick_params(labelsize=15)\n",
    "plt.xticks(rotation=90)"
   ]
  },
  {
   "cell_type": "code",
   "execution_count": null,
   "metadata": {
    "_cell_guid": "94892e05-8c33-4ff3-84aa-24e39b4075ee",
    "_kg_hide-input": true,
    "_kg_hide-output": false,
    "_uuid": "788c3e10ed1ce263d2f2f2033e29cd01ed09454f",
    "collapsed": true
   },
   "outputs": [],
   "source": [
    "# x = [train.loc[train['general_cat']==cat, 'price'] for cat in general_cats]\n",
    "\n",
    "# data = [go.Box(x=np.log(x[i]+1), name=general_cats[i]) for i in range(len(general_cats))]\n",
    "\n",
    "# layout = dict(title=\"Price Distribution by General Category\",\n",
    "#               yaxis = dict(title='Frequency'),\n",
    "#               xaxis = dict(title='Category'))\n",
    "# fig = dict(data=data, layout=layout)\n",
    "# py.iplot(fig)"
   ]
  },
  {
   "cell_type": "markdown",
   "metadata": {
    "_cell_guid": "a2f9d3e4-9d8e-480d-8deb-465310fc8cdd",
    "_uuid": "d52355679d02f3f7d629c25384dc5751c6023de9"
   },
   "source": [
    "### **Brand Name**"
   ]
  },
  {
   "cell_type": "code",
   "execution_count": null,
   "metadata": {
    "_cell_guid": "352301ea-175f-435f-8b83-dad50cb390c0",
    "_uuid": "5d75b2bf16078275fbd938a1483de3b526fa4c2c",
    "collapsed": true
   },
   "outputs": [],
   "source": [
    "print(\"There are %d unique brand names in the training dataset.\" % train['brand_name'].nunique())"
   ]
  },
  {
   "cell_type": "code",
   "execution_count": null,
   "metadata": {
    "_cell_guid": "795e315b-5c5b-481c-8302-7b4bfca0455d",
    "_uuid": "39dfac5c98e102b2637137032d1a17c055d8b31e",
    "collapsed": true
   },
   "outputs": [],
   "source": [
    "x = train['brand_name'].value_counts().index.values.astype('str')[:10]\n",
    "y = train['brand_name'].value_counts().values[:10]"
   ]
  },
  {
   "cell_type": "code",
   "execution_count": null,
   "metadata": {
    "_cell_guid": "bd9a1b9b-c89d-4451-b1ca-52053cd6a611",
    "_kg_hide-input": true,
    "_uuid": "3df62861a822c99f3c42800c8e64e39f4276f9ab",
    "collapsed": true,
    "scrolled": true
   },
   "outputs": [],
   "source": [
    "# trace1 = go.Bar(x=x, y=y, \n",
    "#                 marker=dict(\n",
    "#                 color = y,colorscale='Portland',showscale=True,\n",
    "#                 reversescale = False\n",
    "#                 ))\n",
    "# layout = dict(title= 'Top 10 Brand by Number of Items',\n",
    "#               yaxis = dict(title='Brand Name'),\n",
    "#               xaxis = dict(title='Count'))\n",
    "# fig=dict(data=[trace1], layout=layout)\n",
    "# py.iplot(fig)"
   ]
  },
  {
   "cell_type": "markdown",
   "metadata": {
    "_cell_guid": "19d21a67-0b3b-4ade-8dc0-15003f03a146",
    "_uuid": "d2473fadc100c0ee057ebec8252dbd861751a947"
   },
   "source": [
    "### **Item Description**"
   ]
  },
  {
   "cell_type": "markdown",
   "metadata": {
    "_cell_guid": "d643eeaa-e3d7-4148-8418-2a9f9d1fa5cc",
    "_uuid": "21c36e9a9a9f4ab2d66ac1a5f193051a8e894edb"
   },
   "source": [
    "It will be more challenging to parse through this particular item since it's unstructured data. Does it mean a more detailed and lengthy description will result in a higher bidding price? We will strip out all punctuations, remove some english stop words (i.e. redundant words such as \"a\", \"the\", etc.) and any other words with a length less than 3: "
   ]
  },
  {
   "cell_type": "code",
   "execution_count": null,
   "metadata": {
    "_cell_guid": "3d536351-69ac-41a5-ad40-3114a24bd326",
    "_uuid": "40d28e05a35b4ef4fe11c436200cc5e40f5d561e",
    "collapsed": true
   },
   "outputs": [],
   "source": [
    "def wordCount(text):\n",
    "    # convert to lower case and strip regex\n",
    "    try:\n",
    "         # convert to lower case and strip regex\n",
    "        text = text.lower()\n",
    "        regex = re.compile('[' +re.escape(string.punctuation) + '0-9\\\\r\\\\t\\\\n]')\n",
    "        txt = regex.sub(\" \", text)\n",
    "        # tokenize\n",
    "        # words = nltk.word_tokenize(clean_txt)\n",
    "        # remove words in stop words\n",
    "        words = [w for w in txt.split(\" \") \\\n",
    "                 if not w in stop_words.ENGLISH_STOP_WORDS and len(w)>3]\n",
    "        return len(words)\n",
    "    except: \n",
    "        return 0"
   ]
  },
  {
   "cell_type": "code",
   "execution_count": null,
   "metadata": {
    "_cell_guid": "b71db1b9-756c-4dc3-8445-94f39d697d8e",
    "_uuid": "e72483da02ea3667ba3f14db0f0996eabc980861",
    "collapsed": true
   },
   "outputs": [],
   "source": [
    "# add a column of word counts to both the training and test set\n",
    "train['desc_len'] = train['item_description'].apply(lambda x: wordCount(x))\n",
    "test['desc_len'] = test['item_description'].apply(lambda x: wordCount(x))"
   ]
  },
  {
   "cell_type": "code",
   "execution_count": null,
   "metadata": {
    "_cell_guid": "511aec70-6890-4504-8e43-742056a47733",
    "_uuid": "79ebf5e7b0e03c993a3b4c53c2abf80b2c6d17b6",
    "collapsed": true
   },
   "outputs": [],
   "source": [
    "train.head()"
   ]
  },
  {
   "cell_type": "code",
   "execution_count": null,
   "metadata": {
    "_cell_guid": "d935df86-7977-434f-ad53-0c1c9aa44a20",
    "_uuid": "e7e8accc896ef4a04e833fb2abca498e715e3785",
    "collapsed": true
   },
   "outputs": [],
   "source": [
    "df = train.groupby('desc_len')['price'].mean().reset_index()"
   ]
  },
  {
   "cell_type": "code",
   "execution_count": null,
   "metadata": {
    "_cell_guid": "e34e4bf9-073c-4ff4-a052-1f76f4283ea3",
    "_kg_hide-input": true,
    "_uuid": "6b30d788953627a01463ae3422f890f675c87d7b",
    "collapsed": true
   },
   "outputs": [],
   "source": [
    "# trace1 = go.Scatter(\n",
    "#     x = df['desc_len'],\n",
    "#     y = np.log(df['price']+1),\n",
    "#     mode = 'lines+markers',\n",
    "#     name = 'lines+markers'\n",
    "# )\n",
    "# layout = dict(title= 'Average Log(Price) by Description Length',\n",
    "#               yaxis = dict(title='Average Log(Price)'),\n",
    "#               xaxis = dict(title='Description Length'))\n",
    "# fig=dict(data=[trace1], layout=layout)\n",
    "# py.iplot(fig)"
   ]
  },
  {
   "cell_type": "markdown",
   "metadata": {
    "_cell_guid": "cd93bed3-431f-4d42-bd98-ff287d29daa6",
    "_uuid": "52732f7292faf4e2fdd629f723d28a3bdc34ec93",
    "collapsed": true
   },
   "source": [
    "We also need to check if there are any missing values in the item description (4 observations don't have a description) andl remove those observations from our training set."
   ]
  },
  {
   "cell_type": "code",
   "execution_count": null,
   "metadata": {
    "_cell_guid": "82d38cb1-ad25-4479-bf35-7df79eef5a23",
    "_uuid": "27d17728a67f5ef8203f16164edcc5f939c5971d",
    "collapsed": true
   },
   "outputs": [],
   "source": [
    "train.item_description.isnull().sum()"
   ]
  },
  {
   "cell_type": "code",
   "execution_count": null,
   "metadata": {
    "_cell_guid": "eedf987b-9e21-4e7b-940a-ef0bd0e471c4",
    "_uuid": "165c1267209c1f497224690cf9f4ca2829c571a1",
    "collapsed": true
   },
   "outputs": [],
   "source": [
    "# remove missing values in item description\n",
    "train = train[pd.notnull(train['item_description'])]"
   ]
  },
  {
   "cell_type": "markdown",
   "metadata": {},
   "source": [
    "## Text Processing"
   ]
  },
  {
   "cell_type": "markdown",
   "metadata": {
    "_cell_guid": "2217dd1c-f378-4918-9360-fd7b597fd299",
    "_uuid": "17a63f819ba69cfdafc2bc9a79eec6228c80194f",
    "collapsed": true
   },
   "source": [
    "### **Text processing : tokenization**"
   ]
  },
  {
   "cell_type": "markdown",
   "metadata": {
    "_cell_guid": "42e26a88-4e4e-416d-8c0c-be03dff53154",
    "_uuid": "05d9b1f60a1fe5abc775b094c7d53eb4aa88ebc5"
   },
   "source": [
    "Let's do some basic text-preprocessing and normalization and see what are the most common words in the item's description. By tokenizing, we are: \n",
    " - break the descriptions into sentences and then break the sentences into tokens\n",
    " - remove punctuation and stop words\n",
    " - lowercase the tokens\n"
   ]
  },
  {
   "cell_type": "code",
   "execution_count": null,
   "metadata": {
    "_cell_guid": "fbe4aaae-0aa7-464a-a7c2-39331358b3a6",
    "_uuid": "e3a00a5101d1a23bbc93df6118d43fbd028d8703",
    "collapsed": true
   },
   "outputs": [],
   "source": [
    "# def tokenize(text):\n",
    "#      # convert to lower case and strip regex\n",
    "#     text = text.lower()\n",
    "#     regex = re.compile('[' +re.escape(string.punctuation) + '0-9\\\\r\\\\t\\\\n]')\n",
    "#     txt = regex.sub(\" \", text)\n",
    "#     # tokenize\n",
    "#     words = nltk.word_tokenize(txt)\n",
    "#     # remove words in stop words\n",
    "#     words = [w for w in words \\\n",
    "#             if not w in stop_words.ENGLISH_STOP_WORDS and len(w)>3]\n",
    "#     return words"
   ]
  },
  {
   "cell_type": "code",
   "execution_count": 3,
   "metadata": {
    "collapsed": true
   },
   "outputs": [],
   "source": [
    "stop = set(stopwords.words('english'))\n",
    "def tokenize(text):\n",
    "    \"\"\"\n",
    "    sent_tokenize(): segment text into sentences\n",
    "    word_tokenize(): break sentences into words\n",
    "    \"\"\"\n",
    "    try: \n",
    "        regex = re.compile('[' +re.escape(string.punctuation) + '0-9\\\\r\\\\t\\\\n]')\n",
    "        text = regex.sub(\" \", text)\n",
    "        \n",
    "        tokens_ = [word_tokenize(s) for s in sent_tokenize(text)]\n",
    "        tokens = []\n",
    "        for token_by_sent in tokens_:\n",
    "            tokens += token_by_sent\n",
    "        tokens = list(filter(lambda t: t.lower() not in stop, tokens))\n",
    "        filtered_tokens = [w for w in tokens if re.search('[a-zA-Z]', w)]\n",
    "        filtered_tokens = [w.lower() for w in filtered_tokens if len(w)>=3]\n",
    "        \n",
    "        return filtered_tokens\n",
    "            \n",
    "    except TypeError as e: print(text,e)"
   ]
  },
  {
   "cell_type": "code",
   "execution_count": null,
   "metadata": {
    "collapsed": true
   },
   "outputs": [],
   "source": [
    "#train.drop(['tokens'], axis=1, inplace=True)\n",
    "#test.drop(['tokens'], axis=1, inplace=True)"
   ]
  },
  {
   "cell_type": "code",
   "execution_count": null,
   "metadata": {
    "collapsed": true
   },
   "outputs": [],
   "source": [
    "train['tokens'] = train['item_description'].map(tokenize)\n",
    "test['tokens'] = test['item_description'].map(tokenize)"
   ]
  },
  {
   "cell_type": "code",
   "execution_count": null,
   "metadata": {
    "collapsed": true
   },
   "outputs": [],
   "source": [
    "train.reset_index(drop=True, inplace=True)\n",
    "test.reset_index(drop=True, inplace=True)\n",
    "train['tokens']=train['tokens'].astype(dtype='O')\n",
    "test['tokens']=test['tokens'].astype(dtype='O')"
   ]
  },
  {
   "cell_type": "code",
   "execution_count": null,
   "metadata": {
    "collapsed": true
   },
   "outputs": [],
   "source": [
    "train.to_pickle(f'{PATH}train.pickle')\n",
    "test.to_pickle(f'{PATH}test.pickle')"
   ]
  },
  {
   "cell_type": "code",
   "execution_count": 6,
   "metadata": {
    "collapsed": true
   },
   "outputs": [],
   "source": [
    "train = pd.read_pickle(f'{PATH}train.pickle')\n",
    "test = pd.read_pickle(f'{PATH}test.pickle')"
   ]
  },
  {
   "cell_type": "markdown",
   "metadata": {},
   "source": [
    "Now that all the descriptions are tokenzied through all the rows, the result is added to the column `tokens` of each item. Let's check what the the tokens looks like for the first few rows:"
   ]
  },
  {
   "cell_type": "code",
   "execution_count": 69,
   "metadata": {},
   "outputs": [
    {
     "name": "stdout",
     "output_type": "stream",
     "text": [
      "description: No description yet\n",
      "tokens: ['description', 'yet']\n",
      "\n",
      "description: This keyboard is in great condition and works like it came out of the box. All of the ports are tested and work perfectly. The lights are customizable via the Razer Synapse app on your PC.\n",
      "tokens: ['keyboard', 'great', 'condition', 'works', 'like', 'came', 'box', 'ports', 'tested', 'work', 'perfectly', 'lights', 'customizable', 'via', 'razer', 'synapse', 'app']\n",
      "\n",
      "description: Adorable top with a hint of lace and a key hole in the back! The pale pink is a 1X, and I also have a 3X available in white!\n",
      "tokens: ['adorable', 'top', 'hint', 'lace', 'key', 'hole', 'back', 'pale', 'pink', 'also', 'available', 'white']\n",
      "\n",
      "description: New with tags. Leather horses. Retail for [rm] each. Stand about a foot high. They are being sold as a pair. Any questions please ask. Free shipping. Just got out of storage\n",
      "tokens: ['new', 'tags', 'leather', 'horses', 'retail', 'stand', 'foot', 'high', 'sold', 'pair', 'questions', 'please', 'ask', 'free', 'shipping', 'got', 'storage']\n",
      "\n",
      "description: Complete with certificate of authenticity\n",
      "tokens: ['complete', 'certificate', 'authenticity']\n",
      "\n"
     ]
    }
   ],
   "source": [
    "for description, tokens in zip(train['item_description'].head(),\n",
    "                              train['tokens'].head()):\n",
    "    print('description:', description)\n",
    "    print('tokens:', tokens)\n",
    "    print()"
   ]
  },
  {
   "cell_type": "code",
   "execution_count": 70,
   "metadata": {
    "collapsed": true
   },
   "outputs": [],
   "source": [
    "def top10_words(cat):\n",
    "    tokens = train[train['general_cat']==cat]['tokens']\n",
    "    alltokens = []\n",
    "    for t in tokens: alltokens+=t\n",
    "    return Counter(alltokens).most_common(10)"
   ]
  },
  {
   "cell_type": "code",
   "execution_count": 103,
   "metadata": {
    "collapsed": true
   },
   "outputs": [],
   "source": [
    "# for cat in ['Women', 'Men', 'Kids', 'Electronics', 'Beauty']:\n",
    "#     print('category :', cat)\n",
    "#     print('top 10 keywords:', top10_words(cat))\n",
    "#     print('---')"
   ]
  },
  {
   "cell_type": "code",
   "execution_count": 107,
   "metadata": {
    "collapsed": true
   },
   "outputs": [],
   "source": [
    "def plot_top10(lst, cat, col):\n",
    "    plt.bar(range(len(lst)), [val[1] for val in lst], align='center', color=col)\n",
    "    plt.xticks(range(len(lst)), [val[0] for val in lst])\n",
    "    plt.ylabel('frequency', fontsize=17)\n",
    "    plt.tick_params(labelsize=14)\n",
    "    plt.title('Word Frequency in %s Category' % cat, fontsize=17)"
   ]
  },
  {
   "cell_type": "code",
   "execution_count": 111,
   "metadata": {},
   "outputs": [
    {
     "data": {
      "image/png": "[encoded data removed]",
      "text/plain": [
       "<matplotlib.figure.Figure at 0x1af89c16d8>"
      ]
     },
     "metadata": {},
     "output_type": "display_data"
    }
   ],
   "source": [
    "plt.figure(figsize=(20,10))\n",
    "plt.subplot(221)\n",
    "plot_top10(top10_words('Women'), 'Women', '#194196')\n",
    "plt.subplot(222)\n",
    "plot_top10(top10_words('Kids'), 'Kids', '#8cb4e1')\n",
    "plt.subplot(223)\n",
    "plot_top10(top10_words('Electronics'), 'Electronics', '#be0000')\n",
    "plt.subplot(224)\n",
    "plot_top10(top10_words('Beauty'), 'Beauty', '#007d00')"
   ]
  },
  {
   "cell_type": "markdown",
   "metadata": {},
   "source": [
    "### Text processing : tf-idf"
   ]
  },
  {
   "cell_type": "markdown",
   "metadata": {},
   "source": [
    "tf-idf is the acronym for **Term Frequency–inverse Document Frequency**. It quantifies the importance of a particular word in relative to the vocabulary of a collection of documents or corpus. The metric depends on two factors: \n",
    "- **Term Frequency**: the occurences of a word in a given document (i.e. bag of words)\n",
    "- **Inverse Document Frequency**: the reciprocal number of times a word occurs in a corpus of documents\n",
    "\n",
    "Think about of it this way: If the word is used extensively in all documents, its existence within a specific document will not be able to provide us much specific information about the document itself. So the second term could be seen as a penalty term that penalizes common words such as \"a\", \"the\", \"and\", etc. tf-idf can therefore, be seen as a weighting scheme for words relevancy in a specific document."
   ]
  },
  {
   "cell_type": "code",
   "execution_count": null,
   "metadata": {
    "collapsed": true
   },
   "outputs": [],
   "source": [
    "all_desc = np.append(train['item_description'].values, test['item_description'].values)\n",
    "#combined_desc = train['item_description'].append(test['item_description'], ignore_index=True)\n",
    "#combined_cat = train['general_cat'].append(test['general_cat'],ignore_index=True)\n",
    "#combined_tokens = train['tokens'].append(test['tokens'],ignore_index=True)"
   ]
  },
  {
   "cell_type": "code",
   "execution_count": null,
   "metadata": {
    "collapsed": true
   },
   "outputs": [],
   "source": [
    "#len(set(all_desc))"
   ]
  },
  {
   "cell_type": "code",
   "execution_count": null,
   "metadata": {
    "collapsed": true
   },
   "outputs": [],
   "source": [
    "from sklearn.feature_extraction.text import TfidfVectorizer\n",
    "\n",
    "# min_df is minimum number of documents that contain a term t\n",
    "# max_features is maximum number of unique tokens (across documents) that we'd consider\n",
    "# TfidfVectorizer preprocesses the descriptions using the tokenizer we defined above\n",
    "\n",
    "vectorizer = TfidfVectorizer(min_df=10,\n",
    "                             max_features=180000,\n",
    "                             tokenizer=tokenize,\n",
    "                             ngram_range=(1, ))\n",
    "vz = vectorizer.fit_transform(list(all_desc))"
   ]
  },
  {
   "cell_type": "code",
   "execution_count": null,
   "metadata": {
    "collapsed": true
   },
   "outputs": [],
   "source": [
    "pickle.dump(vectorizer, open(\"tfidf-vectorizer.pickle\", \"wb\"))\n",
    "pickle.dump(vz, open(\"tfidf-vz.pickle\", \"wb\"))"
   ]
  },
  {
   "cell_type": "code",
   "execution_count": 11,
   "metadata": {
    "collapsed": true
   },
   "outputs": [],
   "source": [
    "vectorizer = pickle.load(open(\"tfidf-vectorizer.pickle\", \"rb\"))\n",
    "vz = pickle.load(open(\"tfidf-vz.pickle\", \"rb\"))"
   ]
  },
  {
   "cell_type": "code",
   "execution_count": null,
   "metadata": {
    "collapsed": true
   },
   "outputs": [],
   "source": [
    "vz.shape"
   ]
  },
  {
   "cell_type": "markdown",
   "metadata": {},
   "source": [
    "vz is a tfidf matrix where: \n",
    "- the number of rows is the total number of descriptions\n",
    "- the number of columns is the total number of unique tokens across the descriptions"
   ]
  },
  {
   "cell_type": "code",
   "execution_count": null,
   "metadata": {
    "collapsed": true
   },
   "outputs": [],
   "source": [
    "#  create a dictionary mapping the tokens to their tfidf values\n",
    "tfidf = dict(zip(vectorizer.get_feature_names(), vectorizer.idf_))\n",
    "tfidf = pd.DataFrame(columns=['tfidf']).from_dict(\n",
    "                    dict(tfidf), orient='index')\n",
    "tfidf.columns = ['tfidf']"
   ]
  },
  {
   "cell_type": "markdown",
   "metadata": {},
   "source": [
    "Let's look at the distribution of the tfidf scores below: "
   ]
  },
  {
   "cell_type": "code",
   "execution_count": null,
   "metadata": {
    "collapsed": true
   },
   "outputs": [],
   "source": [
    "tfidf['tfidf'].hist(bins=50, figsize=(20,10))\n",
    "plt.title('tf-idf Score Distribution',fontsize=20)\n",
    "plt.xlabel('tf-idf Score', fontsize=17)\n",
    "plt.ylabel('Frequency', fontsize=17)\n",
    "plt.tick_params(labelsize=17)"
   ]
  },
  {
   "cell_type": "markdown",
   "metadata": {},
   "source": [
    "Below is the 10 tokens with the lowest tfidf score, which is unsurprisingly, very generic words that we could not use to distinguish one description from another. "
   ]
  },
  {
   "cell_type": "code",
   "execution_count": null,
   "metadata": {
    "collapsed": true
   },
   "outputs": [],
   "source": [
    "tfidf.sort_values(by=['tfidf'], ascending=True).head(10)"
   ]
  },
  {
   "cell_type": "code",
   "execution_count": null,
   "metadata": {
    "collapsed": true
   },
   "outputs": [],
   "source": [
    "tfidf.sort_values(by=['tfidf'], ascending=False).head(10)"
   ]
  },
  {
   "cell_type": "markdown",
   "metadata": {},
   "source": [
    "Given the high dimension of our tfidf matrix, we need to reduce their dimension using the Singular Value Decomposition (SVD) technique. And to visualize our vocabulary, we could next use t-SNE to reduce the dimension from 50 to 2. t-SNE is more suitable for dimensionality reduction to 2 or 3. \n",
    "\n",
    "### _**t-Distributed Stochastic Neighbor Embedding** (t-SNE)_\n",
    "\n",
    "t-SNE is a technique for dimensionality reduction that is particularly well suited for the visualization of high-dimensional datasets. The goal is to take a set of points in a high-dimensional space and find a representation of those points in a lower-dimensional space, typically the 2D plane. It is based on probability distributions with random walk on neighborhood graphs to find the structure within the data.\n",
    "\n",
    "First, let's take a sample from the both training and testing item's description since t-SNE can take a very long time to execute. We can then reduce the dimension of each vector from to n_components (50) using SVD."
   ]
  },
  {
   "cell_type": "code",
   "execution_count": 12,
   "metadata": {
    "collapsed": true
   },
   "outputs": [],
   "source": [
    "trn = train.copy()\n",
    "tst = test.copy()\n",
    "trn['is_test'] = 1\n",
    "test['is_test'] = 0\n",
    "\n",
    "sample_sz = 15000\n",
    "\n",
    "combined_df = pd.concat([trn, test])\n",
    "combined_sample = combined_df.sample(n=sample_sz)\n",
    "vz_sample = vectorizer.fit_transform(list(combined_sample['item_description']))"
   ]
  },
  {
   "cell_type": "code",
   "execution_count": 14,
   "metadata": {
    "collapsed": true
   },
   "outputs": [],
   "source": [
    "from sklearn.decomposition import TruncatedSVD\n",
    "\n",
    "n_comp=30\n",
    "svd = TruncatedSVD(n_components=n_comp, random_state=42)\n",
    "svd_tfidf = svd.fit_transform(vz_sample)"
   ]
  },
  {
   "cell_type": "code",
   "execution_count": 15,
   "metadata": {},
   "outputs": [
    {
     "data": {
      "text/plain": [
       "(15000, 30)"
      ]
     },
     "execution_count": 15,
     "metadata": {},
     "output_type": "execute_result"
    }
   ],
   "source": [
    "svd_tfidf.shape"
   ]
  },
  {
   "cell_type": "code",
   "execution_count": 46,
   "metadata": {
    "collapsed": true
   },
   "outputs": [],
   "source": [
    "from sklearn.manifold import TSNE\n",
    "tsne_model = TSNE(n_components=2, verbose=2, random_state=42, n_iter=500)"
   ]
  },
  {
   "cell_type": "code",
   "execution_count": null,
   "metadata": {
    "collapsed": true
   },
   "outputs": [],
   "source": [
    "tsne_tfidf = tsne_model.fit_transform(svd_tfidf)"
   ]
  },
  {
   "cell_type": "code",
   "execution_count": null,
   "metadata": {
    "collapsed": true
   },
   "outputs": [],
   "source": [
    "tsne_tfidf.shape"
   ]
  },
  {
   "cell_type": "code",
   "execution_count": null,
   "metadata": {
    "collapsed": true
   },
   "outputs": [],
   "source": [
    "output_notebook()\n",
    "plot_tfidf = bp.figure(plot_width=700, plot_height=600,\n",
    "                       title=\"tf-idf clustering of the item description\",\n",
    "    tools=\"pan,wheel_zoom,box_zoom,reset,hover,previewsave\",\n",
    "    x_axis_type=None, y_axis_type=None, min_border=1)"
   ]
  },
  {
   "cell_type": "code",
   "execution_count": null,
   "metadata": {
    "collapsed": true
   },
   "outputs": [],
   "source": [
    "combined_sample.reset_index(inplace=True, drop=True)"
   ]
  },
  {
   "cell_type": "code",
   "execution_count": null,
   "metadata": {
    "collapsed": true
   },
   "outputs": [],
   "source": [
    "tfidf_df = pd.DataFrame(tsne_tfidf, columns=['x', 'y'])\n",
    "tfidf_df['description'] = combined_sample['item_description']\n",
    "tfidf_df['tokens'] = combined_sample['tokens']\n",
    "tfidf_df['category'] = combined_sample['general_cat']"
   ]
  },
  {
   "cell_type": "code",
   "execution_count": null,
   "metadata": {
    "collapsed": true
   },
   "outputs": [],
   "source": [
    "plot_tfidf.scatter(x='x', y='y', source=tfidf_df, alpha=0.7)\n",
    "hover = plot_tfidf.select(dict(type=HoverTool))\n",
    "hover.tooltips={\"description\": \"@description\", \"tokens\": \"@tokens\", \"category\":\"@category\"}\n",
    "show(plot_tfidf)"
   ]
  },
  {
   "cell_type": "markdown",
   "metadata": {},
   "source": [
    "## Clustering"
   ]
  },
  {
   "cell_type": "markdown",
   "metadata": {},
   "source": [
    "### KMeans"
   ]
  },
  {
   "cell_type": "code",
   "execution_count": null,
   "metadata": {
    "collapsed": true
   },
   "outputs": [],
   "source": [
    "vz.shape"
   ]
  },
  {
   "cell_type": "markdown",
   "metadata": {},
   "source": [
    "\"\"This matrix can be seen as a collection of (x) high-dimensional vectors (y). Some algorithms like K-means can crunch this data structure and produce blocks of similar or \"close\" data points based on some similarity measure like the euclidean distance.\n",
    "\n",
    "One thing to know about Kmeans is that it needs the number of clusters up front. This number is usually found by trying different values until the result looks satisfactory:"
   ]
  },
  {
   "cell_type": "code",
   "execution_count": 60,
   "metadata": {
    "collapsed": true
   },
   "outputs": [],
   "source": [
    "from sklearn.cluster import MiniBatchKMeans\n",
    "\n",
    "num_clusters = 30 # need to be selected wisely\n",
    "kmeans_model = MiniBatchKMeans(n_clusters=num_clusters,\n",
    "                               init='k-means++',\n",
    "                               n_init=1,\n",
    "                               init_size=1000, batch_size=1000, verbose=0, max_iter=1000)"
   ]
  },
  {
   "cell_type": "code",
   "execution_count": 61,
   "metadata": {
    "collapsed": true
   },
   "outputs": [],
   "source": [
    "kmeans = kmeans_model.fit(vz)\n",
    "kmeans_clusters = kmeans.predict(vz)\n",
    "kmeans_distances = kmeans.transform(vz)"
   ]
  },
  {
   "cell_type": "markdown",
   "metadata": {},
   "source": [
    "Let's look at the main keywords that describe each clusters: "
   ]
  },
  {
   "cell_type": "code",
   "execution_count": null,
   "metadata": {
    "collapsed": true
   },
   "outputs": [],
   "source": [
    "sorted_centroids = kmeans.cluster_centers_.argsort()[:, ::-1]\n",
    "terms = vectorizer.get_feature_names()\n",
    "\n",
    "for i in range(num_clusters-20):\n",
    "    print(\"Cluster %d:\" % i)\n",
    "    aux = ''\n",
    "    for j in sorted_centroids[i, :10]:\n",
    "        aux += terms[j] + ' | '\n",
    "    print(aux)\n",
    "    print() "
   ]
  },
  {
   "cell_type": "markdown",
   "metadata": {},
   "source": [
    "In order to plot these clusters, first we will need to reduce the dimension of the distances to 2 using tsne: "
   ]
  },
  {
   "cell_type": "code",
   "execution_count": 62,
   "metadata": {
    "collapsed": true
   },
   "outputs": [],
   "source": [
    "# repeat the same steps for the sample\n",
    "kmeans = kmeans_model.fit(vz_sample)\n",
    "kmeans_clusters = kmeans.predict(vz_sample)\n",
    "kmeans_distances = kmeans.transform(vz_sample)"
   ]
  },
  {
   "cell_type": "code",
   "execution_count": 63,
   "metadata": {},
   "outputs": [
    {
     "name": "stdout",
     "output_type": "stream",
     "text": [
      "[t-SNE] Computing 91 nearest neighbors...\n",
      "[t-SNE] Indexed 15000 samples in 0.107s...\n",
      "[t-SNE] Computed neighbors for 15000 samples in 10.052s...\n",
      "[t-SNE] Computed conditional probabilities for sample 1000 / 15000\n",
      "[t-SNE] Computed conditional probabilities for sample 2000 / 15000\n",
      "[t-SNE] Computed conditional probabilities for sample 3000 / 15000\n",
      "[t-SNE] Computed conditional probabilities for sample 4000 / 15000\n",
      "[t-SNE] Computed conditional probabilities for sample 5000 / 15000\n",
      "[t-SNE] Computed conditional probabilities for sample 6000 / 15000\n",
      "[t-SNE] Computed conditional probabilities for sample 7000 / 15000\n",
      "[t-SNE] Computed conditional probabilities for sample 8000 / 15000\n",
      "[t-SNE] Computed conditional probabilities for sample 9000 / 15000\n",
      "[t-SNE] Computed conditional probabilities for sample 10000 / 15000\n",
      "[t-SNE] Computed conditional probabilities for sample 11000 / 15000\n",
      "[t-SNE] Computed conditional probabilities for sample 12000 / 15000\n",
      "[t-SNE] Computed conditional probabilities for sample 13000 / 15000\n",
      "[t-SNE] Computed conditional probabilities for sample 14000 / 15000\n",
      "[t-SNE] Computed conditional probabilities for sample 15000 / 15000\n",
      "[t-SNE] Mean sigma: 0.000000\n",
      "[t-SNE] Computed conditional probabilities in 0.640s\n",
      "[t-SNE] Iteration 50: error = 99.3907928, gradient norm = 0.0083227 (50 iterations in 32.271s)\n",
      "[t-SNE] Iteration 100: error = 90.7606354, gradient norm = 0.0054291 (50 iterations in 22.374s)\n",
      "[t-SNE] Iteration 150: error = 89.9153900, gradient norm = 0.0024353 (50 iterations in 19.746s)\n",
      "[t-SNE] Iteration 200: error = 89.7497711, gradient norm = 0.0010439 (50 iterations in 19.844s)\n",
      "[t-SNE] Iteration 250: error = 89.5855713, gradient norm = 0.0027473 (50 iterations in 20.571s)\n",
      "[t-SNE] KL divergence after 250 iterations with early exaggeration: 89.585571\n",
      "[t-SNE] Iteration 300: error = 3.2822649, gradient norm = 0.0013831 (50 iterations in 18.191s)\n",
      "[t-SNE] Iteration 350: error = 2.6528785, gradient norm = 0.0006490 (50 iterations in 17.038s)\n",
      "[t-SNE] Iteration 400: error = 2.3569491, gradient norm = 0.0003914 (50 iterations in 16.892s)\n",
      "[t-SNE] Iteration 450: error = 2.1760337, gradient norm = 0.0002721 (50 iterations in 16.690s)\n",
      "[t-SNE] Iteration 500: error = 2.0524368, gradient norm = 0.0002045 (50 iterations in 16.710s)\n",
      "[t-SNE] Error after 500 iterations: 2.052437\n"
     ]
    }
   ],
   "source": [
    "# reduce dimension to 2 using tsne\n",
    "tsne_kmeans = tsne_model.fit_transform(kmeans_distances)"
   ]
  },
  {
   "cell_type": "code",
   "execution_count": 64,
   "metadata": {
    "collapsed": true
   },
   "outputs": [],
   "source": [
    "colormap = np.array([\"#6d8dca\", \"#69de53\", \"#723bca\", \"#c3e14c\", \"#c84dc9\", \"#68af4e\", \"#6e6cd5\",\n",
    "\"#e3be38\", \"#4e2d7c\", \"#5fdfa8\", \"#d34690\", \"#3f6d31\", \"#d44427\", \"#7fcdd8\", \"#cb4053\", \"#5e9981\",\n",
    "\"#803a62\", \"#9b9e39\", \"#c88cca\", \"#e1c37b\", \"#34223b\", \"#bdd8a3\", \"#6e3326\", \"#cfbdce\", \"#d07d3c\",\n",
    "\"#52697d\", \"#194196\", \"#d27c88\", \"#36422b\", \"#b68f79\"])"
   ]
  },
  {
   "cell_type": "code",
   "execution_count": 73,
   "metadata": {
    "collapsed": true
   },
   "outputs": [],
   "source": [
    "#combined_sample.reset_index(drop=True, inplace=True)\n",
    "kmeans_df = pd.DataFrame(tsne_kmeans, columns=['x', 'y'])\n",
    "kmeans_df['cluster'] = kmeans_clusters\n",
    "kmeans_df['description'] = combined_sample['item_description']\n",
    "kmeans_df['category'] = combined_sample['general_cat']"
   ]
  },
  {
   "cell_type": "code",
   "execution_count": 66,
   "metadata": {
    "collapsed": true
   },
   "outputs": [],
   "source": [
    "clusters = np.unique(kmeans_clusters) \n",
    "cmap = dict()\n",
    "for i,cluster in enumerate(clusters): \n",
    "    cmap[str(cluster)] = colormap[i]"
   ]
  },
  {
   "cell_type": "code",
   "execution_count": 67,
   "metadata": {
    "collapsed": true
   },
   "outputs": [],
   "source": [
    "plot_kmeans = bp.figure(plot_width=700, plot_height=600,\n",
    "                        title=\"KMeans clustering of the description\",\n",
    "    tools=\"pan,wheel_zoom,box_zoom,reset,hover,previewsave\",\n",
    "    x_axis_type=None, y_axis_type=None, min_border=1)"
   ]
  },
  {
   "cell_type": "code",
   "execution_count": 91,
   "metadata": {
    "collapsed": true
   },
   "outputs": [],
   "source": [
    "source = ColumnDataSource(data=dict(x=kmeans_df['x'], y=kmeans_df['y'], color=colormap[kmeans_clusters],\n",
    "                                    clusters=kmeans_df['cluster']\n",
    "                                     description=kmeans_df['description'],\n",
    "                                     category=kmeans_df['category']))\n",
    "\n",
    "plot_kmeans.scatter(x='x', y='y', color='color', source=source)\n",
    "hover = plot_kmeans.select(dict(type=HoverTool))\n",
    "hover.tooltips={\"description\": \"@description\", \"category\": \"@category\", \"cluster\":\"@cluster\" }\n",
    "show(plot_kmeans)"
   ]
  },
  {
   "cell_type": "markdown",
   "metadata": {},
   "source": [
    "\"\"At first sight you could notice that they deal approximately with the same topic. This is coherent since we build our clusters using similarities between relevant keywords.\n",
    "\n",
    "We can also notice that within the same cluster, many subclusters are isolated from one another. This gives an idea about the global topic.\n",
    "\n",
    "Kmeans separates the documents into disjoint clusters. the assumption is that each cluster is attributed a single topic. However, descriptions may in reality be characterized by a \"mixture\" of topics. We'll cover how to deal with this problem with the LDA algorithm.\"\""
   ]
  },
  {
   "cell_type": "markdown",
   "metadata": {},
   "source": [
    "### Latent Dirichlet Allocation"
   ]
  },
  {
   "cell_type": "markdown",
   "metadata": {},
   "source": [
    "Latent Dirichlet Allocation (LDA) is an algorithms used to discover the topics that are present in a corpus. LDA is based on probabilistic graphical modelling and it is capable of returning the documents that belong to a topic in a corpus and the words that belong to a topic.\n",
    "\n",
    "Its input is a **bag of words**, i.e. each document represented as a row, with each columns containing the count of words in the corpus\n",
    "\n",
    "*Reference: https://medium.com/@aneesha/topic-modeling-with-scikit-learn-e80d33668730*"
   ]
  },
  {
   "cell_type": "code",
   "execution_count": 8,
   "metadata": {
    "collapsed": true
   },
   "outputs": [],
   "source": [
    "import lda\n",
    "from sklearn.feature_extraction.text import CountVectorizer\n",
    "from sklearn.decomposition import LatentDirichletAllocation\n",
    "\n",
    "import logging\n",
    "logging.getLogger(\"lda\").setLevel(logging.WARNING)"
   ]
  },
  {
   "cell_type": "code",
   "execution_count": 13,
   "metadata": {
    "collapsed": true
   },
   "outputs": [],
   "source": [
    "cvectorizer = CountVectorizer(min_df=4,\n",
    "                              max_features=180000,\n",
    "                              tokenizer=tokenize,\n",
    "                              ngram_range=(1,2))\n",
    "\n",
    "cvz = cvectorizer.fit_transform(combined_sample['item_description'])"
   ]
  },
  {
   "cell_type": "code",
   "execution_count": 40,
   "metadata": {
    "collapsed": true
   },
   "outputs": [],
   "source": [
    "lda_model = LatentDirichletAllocation(n_components=20,\n",
    "                                max_iter=20,\n",
    "                                learning_method='online',\n",
    "                                random_state=42,\n",
    "                                verbose=1)\n",
    "#lda_model = lda.LDA(n_topics=n_topics, n_iter=n_iter)\n",
    "#X_topics = lda_model.fit_transform(cvz)"
   ]
  },
  {
   "cell_type": "code",
   "execution_count": 41,
   "metadata": {},
   "outputs": [
    {
     "name": "stdout",
     "output_type": "stream",
     "text": [
      "iteration: 1 of max_iter: 20\n",
      "iteration: 2 of max_iter: 20\n",
      "iteration: 3 of max_iter: 20\n",
      "iteration: 4 of max_iter: 20\n",
      "iteration: 5 of max_iter: 20\n",
      "iteration: 6 of max_iter: 20\n",
      "iteration: 7 of max_iter: 20\n",
      "iteration: 8 of max_iter: 20\n",
      "iteration: 9 of max_iter: 20\n",
      "iteration: 10 of max_iter: 20\n",
      "iteration: 11 of max_iter: 20\n",
      "iteration: 12 of max_iter: 20\n",
      "iteration: 13 of max_iter: 20\n",
      "iteration: 14 of max_iter: 20\n",
      "iteration: 15 of max_iter: 20\n",
      "iteration: 16 of max_iter: 20\n",
      "iteration: 17 of max_iter: 20\n",
      "iteration: 18 of max_iter: 20\n",
      "iteration: 19 of max_iter: 20\n",
      "iteration: 20 of max_iter: 20\n"
     ]
    }
   ],
   "source": [
    "X_topics = lda_model.fit_transform(cvz)"
   ]
  },
  {
   "cell_type": "code",
   "execution_count": 42,
   "metadata": {},
   "outputs": [
    {
     "name": "stdout",
     "output_type": "stream",
     "text": [
      "Topic 0: size small pink secret victoria victoria secret size small dress\n",
      "Topic 1: little without lip bought jacket matte lipstick would\n",
      "Topic 2: bag body inches leather bottom pocket made zipper\n",
      "Topic 3: price please firm price firm ship shipping free purchase\n",
      "Topic 4: new brand brand new tags new tags color two full\n",
      "Topic 5: watch phone screen charger cable battery ipad steel\n",
      "Topic 6: back size shirt front love long sleeve pockets\n",
      "Topic 7: large bundle size large save bundle save black save shipping comes\n",
      "Topic 8: new brand brand new never worn never worn size new never\n",
      "Topic 9: free home smoke free home smoke free pet pet free lularoe\n",
      "Topic 10: super skin cute super cute use face nice read\n",
      "Topic 11: condition great used worn size great condition like like new\n",
      "Topic 12: brush hair first shipped may care need days\n",
      "Topic 13: size fits silver material tag high men soft\n",
      "Topic 14: shipping free free shipping items new bundle day make\n",
      "Topic 15: box original shape still good urban gold left\n",
      "Topic 16: description yet description yet iphone case plus really phone\n",
      "Topic 17: size condition good good condition black white blue waist\n",
      "Topic 18: light cup hoodie pink bit brandy blue gel\n",
      "Topic 19: used never used never shade palette bottle water eyeshadow\n"
     ]
    }
   ],
   "source": [
    "n_top_words = 8\n",
    "topic_summaries = []\n",
    "\n",
    "topic_word = lda_model.components_  # get the topic words\n",
    "vocab = cvectorizer.get_feature_names()\n",
    "\n",
    "for i, topic_dist in enumerate(topic_word):\n",
    "    topic_words = np.array(vocab)[np.argsort(topic_dist)][:-(n_top_words+1):-1]\n",
    "    topic_summaries.append(' '.join(topic_words))\n",
    "    print('Topic {}: {}'.format(i, ' '.join(topic_words)))"
   ]
  },
  {
   "cell_type": "code",
   "execution_count": 47,
   "metadata": {},
   "outputs": [
    {
     "name": "stdout",
     "output_type": "stream",
     "text": [
      "[t-SNE] Computing 91 nearest neighbors...\n",
      "[t-SNE] Indexed 15000 samples in 0.023s...\n",
      "[t-SNE] Computed neighbors for 15000 samples in 6.425s...\n",
      "[t-SNE] Computed conditional probabilities for sample 1000 / 15000\n",
      "[t-SNE] Computed conditional probabilities for sample 2000 / 15000\n",
      "[t-SNE] Computed conditional probabilities for sample 3000 / 15000\n",
      "[t-SNE] Computed conditional probabilities for sample 4000 / 15000\n",
      "[t-SNE] Computed conditional probabilities for sample 5000 / 15000\n",
      "[t-SNE] Computed conditional probabilities for sample 6000 / 15000\n",
      "[t-SNE] Computed conditional probabilities for sample 7000 / 15000\n",
      "[t-SNE] Computed conditional probabilities for sample 8000 / 15000\n",
      "[t-SNE] Computed conditional probabilities for sample 9000 / 15000\n",
      "[t-SNE] Computed conditional probabilities for sample 10000 / 15000\n",
      "[t-SNE] Computed conditional probabilities for sample 11000 / 15000\n",
      "[t-SNE] Computed conditional probabilities for sample 12000 / 15000\n",
      "[t-SNE] Computed conditional probabilities for sample 13000 / 15000\n",
      "[t-SNE] Computed conditional probabilities for sample 14000 / 15000\n",
      "[t-SNE] Computed conditional probabilities for sample 15000 / 15000\n",
      "[t-SNE] Mean sigma: 0.000000\n",
      "[t-SNE] Computed conditional probabilities in 0.638s\n",
      "[t-SNE] Iteration 50: error = 101.1227951, gradient norm = 0.0009988 (50 iterations in 31.921s)\n",
      "[t-SNE] Iteration 100: error = 94.4655914, gradient norm = 0.0066133 (50 iterations in 25.430s)\n",
      "[t-SNE] Iteration 150: error = 93.3738937, gradient norm = 0.0007528 (50 iterations in 23.895s)\n",
      "[t-SNE] Iteration 200: error = 93.0981369, gradient norm = 0.0018777 (50 iterations in 24.545s)\n",
      "[t-SNE] Iteration 250: error = 92.9963608, gradient norm = 0.0005979 (50 iterations in 20.656s)\n",
      "[t-SNE] KL divergence after 250 iterations with early exaggeration: 92.996361\n",
      "[t-SNE] Iteration 300: error = 3.5664504, gradient norm = 0.0012848 (50 iterations in 17.525s)\n",
      "[t-SNE] Iteration 350: error = 2.9942586, gradient norm = 0.0006312 (50 iterations in 16.485s)\n",
      "[t-SNE] Iteration 400: error = 2.7015786, gradient norm = 0.0003935 (50 iterations in 17.300s)\n",
      "[t-SNE] Iteration 450: error = 2.5238860, gradient norm = 0.0002697 (50 iterations in 18.038s)\n",
      "[t-SNE] Iteration 500: error = 2.4050660, gradient norm = 0.0002006 (50 iterations in 17.646s)\n",
      "[t-SNE] Error after 500 iterations: 2.405066\n"
     ]
    }
   ],
   "source": [
    "# reduce dimension to 2 using tsne\n",
    "tsne_lda = tsne_model.fit_transform(X_topics)"
   ]
  },
  {
   "cell_type": "code",
   "execution_count": 43,
   "metadata": {
    "collapsed": true
   },
   "outputs": [],
   "source": [
    "unnormalized = np.matrix(X_topics)\n",
    "doc_topic = unnormalized/unnormalized.sum(axis=1)\n",
    "#doc_topic = lda_model.doc_topic_\n",
    "lda_keys = []\n",
    "for i, tweet in enumerate(combined_sample['item_description']):\n",
    "    lda_keys += [doc_topic[i].argmax()]"
   ]
  },
  {
   "cell_type": "code",
   "execution_count": 51,
   "metadata": {
    "collapsed": true
   },
   "outputs": [],
   "source": [
    "plot_lda = bp.figure(plot_width=700,\n",
    "                     plot_height=600,\n",
    "                     title=\"LDA topic visualization\",\n",
    "    tools=\"pan,wheel_zoom,box_zoom,reset,hover,previewsave\",\n",
    "    x_axis_type=None, y_axis_type=None, min_border=1)"
   ]
  },
  {
   "cell_type": "code",
   "execution_count": 53,
   "metadata": {
    "collapsed": true
   },
   "outputs": [],
   "source": [
    "combined_sample.reset_index(drop=True, inplace=True)"
   ]
  },
  {
   "cell_type": "code",
   "execution_count": 54,
   "metadata": {
    "collapsed": true
   },
   "outputs": [],
   "source": [
    "lda_df = pd.DataFrame(tsne_lda, columns=['x','y'])\n",
    "lda_df['description'] = combined_sample['item_description']\n",
    "lda_df['category'] = combined_sample['general_cat']\n",
    "lda_df['topic'] = lda_keys\n",
    "lda_df['topic'] = lda_df['topic'].map(int)"
   ]
  },
  {
   "cell_type": "code",
   "execution_count": 57,
   "metadata": {
    "collapsed": true
   },
   "outputs": [],
   "source": [
    "keys = np.unique(lda_df['topic'].values)\n",
    "cmap = dict()\n",
    "for i,k in enumerate(keys): \n",
    "    cmap[k] = colormap[i]\n",
    "    \n",
    "colors = [cmap[x] for x in lda_df['topic']]"
   ]
  },
  {
   "cell_type": "code",
   "execution_count": 92,
   "metadata": {
    "collapsed": true
   },
   "outputs": [],
   "source": [
    "from bokeh.models import ColumnDataSource, CDSView\n",
    "source = ColumnDataSource(data=dict(x=lda_df['x'], y=lda_df['y'], color=colormap[lda_keys],\n",
    "                                     description=lda_df['description'],\n",
    "                                     topic=lda_df['topic'],\n",
    "                                     category=lda_df['category']))\n",
    "\n",
    "plot_lda.scatter(source=source, x='x', y='y', color='color')\n",
    "hover = plot_kmeans.select(dict(type=HoverTool))\n",
    "hover = plot_lda.select(dict(type=HoverTool))\n",
    "hover.tooltips={\"description\":\"@description\",\n",
    "                \"topic\":\"@topic\", \"category\":\"@category\"}\n",
    "show(plot_lda)"
   ]
  },
  {
   "cell_type": "markdown",
   "metadata": {},
   "source": [
    "### Visualization of the LDA topics using pyLDAvis"
   ]
  },
  {
   "cell_type": "code",
   "execution_count": 52,
   "metadata": {
    "collapsed": true
   },
   "outputs": [],
   "source": [
    "lda_df['len_docs'] = combined_sample['tokens'].map(len)"
   ]
  },
  {
   "cell_type": "code",
   "execution_count": 53,
   "metadata": {
    "collapsed": true
   },
   "outputs": [],
   "source": [
    "def prepareLDAData():\n",
    "    data = {\n",
    "        'vocab': vocab,\n",
    "        'doc_topic_dists': lda_model.doc_topic_,\n",
    "        'doc_lengths': list(lda_df['len_docs']),\n",
    "        'term_frequency':cvectorizer.vocabulary_,\n",
    "        'topic_term_dists': lda_model.components_\n",
    "    } \n",
    "    return data"
   ]
  },
  {
   "cell_type": "code",
   "execution_count": 54,
   "metadata": {
    "collapsed": true
   },
   "outputs": [],
   "source": [
    "ldadata = prepareLDAData()"
   ]
  },
  {
   "cell_type": "code",
   "execution_count": 56,
   "metadata": {},
   "outputs": [
    {
     "name": "stderr",
     "output_type": "stream",
     "text": [
      "/Users/ThyKhueLy/anaconda2/envs/fastai/lib/python3.6/site-packages/pyLDAvis/_prepare.py:387: DeprecationWarning:\n",
      "\n",
      "\n",
      ".ix is deprecated. Please use\n",
      ".loc for label based indexing or\n",
      ".iloc for positional indexing\n",
      "\n",
      "See the documentation here:\n",
      "http://pandas.pydata.org/pandas-docs/stable/indexing.html#ix-indexer-is-deprecated\n",
      "\n"
     ]
    }
   ],
   "source": [
    "import pyLDAvis\n",
    "pyLDAvis.enable_notebook()\n",
    "prepared_data = pyLDAvis.prepare(**ldadata)"
   ]
  },
  {
   "cell_type": "code",
   "execution_count": 58,
   "metadata": {
    "collapsed": true
   },
   "outputs": [],
   "source": [
    "pyLDAvis.save_html(prepared_data,'./pyldadavis.html')"
   ]
  },
  {
   "cell_type": "markdown",
   "metadata": {},
   "source": [
    "## Conclusion"
   ]
  },
  {
   "cell_type": "markdown",
   "metadata": {},
   "source": [
    "- applied tf-idf statistics as a natural language preprocessing technique\n",
    "- created clusters on top of the tf-idf matrix using the KMeans algorithm and visualized them using Bokeh\n",
    "- extracted topics using the Latent Dirichlet Allocation algorithm and visualized them using Bokeh and pyldavis"
   ]
  }
 ],
 "metadata": {
  "kernelspec": {
   "display_name": "Python 2",
   "language": "python",
   "name": "python2"
  },
  "language_info": {
   "codemirror_mode": {
    "name": "ipython",
    "version": 2
   },
   "file_extension": ".py",
   "mimetype": "text/x-python",
   "name": "python",
   "nbconvert_exporter": "python",
   "pygments_lexer": "ipython2",
   "version": "2.7.14"
  }
 },
 "nbformat": 4,
 "nbformat_minor": 1
}
